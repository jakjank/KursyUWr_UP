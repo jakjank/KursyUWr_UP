{
 "cells": [
  {
   "cell_type": "markdown",
   "id": "8c95ac55-f22b-4333-b1a1-5abee4f0da34",
   "metadata": {},
   "source": [
    "# Zadanie 1\n",
    "## ppkt. 1 / 2"
   ]
  },
  {
   "cell_type": "code",
   "execution_count": 1,
   "id": "fffcbab7-17fd-4b44-93b8-adf5e81aae06",
   "metadata": {},
   "outputs": [
    {
     "data": {
      "application/vnd.plotly.v1+json": {
       "config": {
        "plotlyServerURL": "https://plot.ly"
       },
       "data": [
        {
         "marker": {
          "size": 5
         },
         "mode": "markers",
         "type": "scatter3d",
         "x": {
          "bdata": "m7SAOxZEI8CdHNNNQXROQGUV/FdS0WjACQ/k6sFPesArHcWcFCwUQDXwH+IJzIDA5P5dfitnZkB7yCl0/aNjwF+J9mf1S0LAVnG6l8GZ+L89sl6xK04bQPaTc1oe50XAR4RvL6N32r+DRrjiZYRgwDoumRnszA5ABI9O4TFFGED3GmlGIhZ5wEFUbXltx35ALSY2H1cxQsBvdL5t4IA+QF5DV78ldnDArUChXGLGfsD5VATu7x1RwIuX2a0GSEDAvi9wcTvR3z+KTXUSy5F/QC1VL+DR4XlAQ9E0D/1OEkAO773owD51wPjtd2rmrHzAkzgKlD3rGsDUb/RriqllQC+MsoYkpEnAuM11lvA6bMAPCoztfHp3wNOFeQt7m1hAvE4TSzRugsAu3jQivZZFQOH0y7MUWFhATKHafRqpK8Ahak+H3TBtQCodi/GKljfApAmIB5x4QMCVjXux/4VNQF2yfQo4s3FAdcEJGm3IcMAH1i/g/qBVQN/Esao1Q1hApqkSI1NXrT8KtnR5QUuAwPhzhrmPXX/APSnVNqw1P8CfDa/a+6N0QO1n679SFgzAJ/tjMVxTWMBhszO3CKtGwCUE7QZYMHhADgi+s4cpJ0B/xOkDTRNhQLSospyCcXJAbUY48wy4YUCHl5ZH7Wc9wDB8CqH/jljAIXg6X2WcY0BfibRLY0WCwORPEhra+wXAMmAkDz+/cMAJtjrOR316QLl5mRcWkqA/btqt4fm9KMAHWFC92iZ+QG5H/oHuohq/pL/67D5LSMD5CnfT0qkZQAISLJJPgnvA8e0Cyju/dEAEdIDc1U1rwBqpMQAAdoFA2UElrmPhOECcBrlJFAZWwCuuv1+rjCbARINWWFc6J0AvWGB+zfd0wC1NALScFDzAt58IuZ2GfcDi6VOWOk87QERJ7er6qoE/FsJqLGHZLUALob3ZavpAQNn7Ac1fZXlAuOoZRmqVM8CmSDrag1p3QN4wPLzIS1HAQBvzGfR2Y0ApL8dlu0bAPwPtLzf/iXTAfB1A2MySc0CdaqmTnlg0wNkDMfk0I0xAuTNVKMmucUA=",
          "dtype": "f8"
         },
         "y": {
          "bdata": "367RUZLEd0C9mPse1O5tQGo3dmDrMk9ATvlK/4andUCpIokcqrNxQKZPQE1sP3hAvxWBmOE7VUBLd7bLJ1dSQHPACeDhPGpAsR4QS3cfXUAB6CjuFeZLQPHJ9XxuUWJAfnWPSyChc0BznWdoM7ZpQLbUB7OFlDJAhVGc5WoNUUBLZ3EQ3rh3QANAFTe+NXRAnDzA7s+IQ0BpdAex8wFmQA2x8rJDwmhAQHH4i6a7dkCQ3LuCJJBwQGAaTOTeAGpA5fnjKEZ8UkAhnCae2WBzQOwKhSHlXnZAUG8lv/4Ld0ApL4VJKZlTQD3GiW06RGBALn2/A4kiW0ACyQlNcdZhQMzTd4aCImtAoMeDiA8OdEBnqpKOE6x4QP84Jxcf31NAC44eAfRidECwGxlYpTlyQLQIQR4snj1AZqHf734sR0Bfkk5NNypvQPmIdwRgbDlAvxmptVhCYEBzb3ZSvOBvQO0d4t1ZnGdAqlhnQsTUcUD+wfoeWRBsQNn4AmmVsGhA3JavaIZgZUAYwRCDCpRFQHIAu6IN0m9AewnbcLRtaUBpno6N4e1YQAQyQ/yG43JALvbqJb7KPkD1xv/TQx9QQK6kDW74M3RA5IvuB1nJdUCKF7CJMahSQLL1iKiU92pANzNd/PtmdkDZWMuVqAJGQBOQQM36WmVA1iTT/KyEdUD5/dXCkIlpQA6hKb/1NVZAXdLFZHnhYEAu7x5e/yhgQDKWI0NSk3FA6JCrw2dLeEBpBDR0oC1ZQL5pXRd8Fl5A4wSeYnKCLUB51JCfSiJpQKw9y3dZ3VtAirSFzsj0V0AU5wvO/nhoQKqwY22dNFhAC1Pnk10Kc0AHPWGqlTRyQBbb5r6DnW9AxVcafOrJakDHutmb7+F0QOGpsrXfplJALQ8M/22LbUCCOifuX4oaQOadXLZKplZA1Yc/1MdvUUBnSfxhNlZjQMfb54QSgUtAaCRCI9ixRkA9/OvL+O51QHX6atzlf3BAnbv6BJLCa0Be0XMsay9YQA5HPkwubnZApk3u2rKnb0DqOCPv4XVhQGDILHOBbXZAwGUlGDR/c0A=",
          "dtype": "f8"
         },
         "z": {
          "bdata": "pzFKZZTpd8D6czwsVUplwP5ilVaslG/ALRr4clvBh8Bx/LOTH8VwwEl215/1p4zA+eAxEzdGWUB3o03djrprwFPWqdEP723A1D9OuX5PW8BX2eubA+hDwFHqHht55WbAoOBBN1QYc8DIxWLlsZZ0wKrBLJvWoRfAN6BKcmUfSsDyMnm5dimIwBWIZOk/C2ZAR7zpVAEWUcDBsHjB8kthwL3502eDWHzAcDBpxkl+isAk4OcqM1N0wLGuwEZo+GzAMXSR559bUMCEK39CZpBpQM0W1q6F9U9APxDN+jwXdsAM1Fp/CJt5wLNOCUZdLoLAvmKyXcYVW8DnKqsjJopDQDAqyiFZSXDAOMj7ow3QgMAjMUENf8+HwA+M7ubK3jpAn8Rrh3RmjMCZioUIFT5uwH/Xyvj101JABB+DFSepScCitzZc/U8ewNANTdnpIEXApkfPBPVaY8BIVvrg53JnwL8IXE+bW1lA3oz92V0NgcA8P1rW/D1gwDMjMJQbZ1fAyCED9T1TZMB9PgylBWCBwAAAAAAAKIlA/QeiOLEybMAzD4kQ8aRtQIxLl/a0qnLAwnxgZBXlXcBphyJR5lNZwGWZE+50ElJAVo+HAGhSdMCrN3L28aJRQCVIOj2OH1ZAxNDJ1mP3acCsaN43nzFQwAnKp6ZIVnDASH+aIKtUZsCp3GU79m2IwPa4LZn89FTAGigZzr+3eMB1WW16F+pyQIAgBtvE7XDA4b8v5DeveMB5YDqMbWZ4QNYqLH60fVzA15ICyUPoS8DQuwxaIzJnwDkz0VJP/IDAgRAkSpZhbkARwJM33G55wAFR7ka4aX1A913w7fYHccAQ3okfpDJ3wErE55BsAnDAjhmP7x5raMDd+fLAt5uEwJXvncF0g1fAWUo72l32hcA1wQUTXtw8QPGrKBQY0FTAvS9X1Br8RsAyrwIA8GFcwAZphIZnc3ZAR9r42ek7TMD/KrgGU5Y/QPktfHUMZnTANKTlm0hZTcByY8RPrUVWwJlUZcZQQYXAQrPr3spsUUCKaGQlAPRiwOlrr2hHfXLAZ5X8/LUbNMA=",
          "dtype": "f8"
         }
        }
       ],
       "layout": {
        "scene": {
         "xaxis": {
          "title": {
           "text": "X Axis"
          }
         },
         "yaxis": {
          "title": {
           "text": "Y Axis"
          }
         },
         "zaxis": {
          "title": {
           "text": "Z Axis"
          }
         }
        },
        "template": {
         "data": {
          "bar": [
           {
            "error_x": {
             "color": "#2a3f5f"
            },
            "error_y": {
             "color": "#2a3f5f"
            },
            "marker": {
             "line": {
              "color": "#E5ECF6",
              "width": 0.5
             },
             "pattern": {
              "fillmode": "overlay",
              "size": 10,
              "solidity": 0.2
             }
            },
            "type": "bar"
           }
          ],
          "barpolar": [
           {
            "marker": {
             "line": {
              "color": "#E5ECF6",
              "width": 0.5
             },
             "pattern": {
              "fillmode": "overlay",
              "size": 10,
              "solidity": 0.2
             }
            },
            "type": "barpolar"
           }
          ],
          "carpet": [
           {
            "aaxis": {
             "endlinecolor": "#2a3f5f",
             "gridcolor": "white",
             "linecolor": "white",
             "minorgridcolor": "white",
             "startlinecolor": "#2a3f5f"
            },
            "baxis": {
             "endlinecolor": "#2a3f5f",
             "gridcolor": "white",
             "linecolor": "white",
             "minorgridcolor": "white",
             "startlinecolor": "#2a3f5f"
            },
            "type": "carpet"
           }
          ],
          "choropleth": [
           {
            "colorbar": {
             "outlinewidth": 0,
             "ticks": ""
            },
            "type": "choropleth"
           }
          ],
          "contour": [
           {
            "colorbar": {
             "outlinewidth": 0,
             "ticks": ""
            },
            "colorscale": [
             [
              0,
              "#0d0887"
             ],
             [
              0.1111111111111111,
              "#46039f"
             ],
             [
              0.2222222222222222,
              "#7201a8"
             ],
             [
              0.3333333333333333,
              "#9c179e"
             ],
             [
              0.4444444444444444,
              "#bd3786"
             ],
             [
              0.5555555555555556,
              "#d8576b"
             ],
             [
              0.6666666666666666,
              "#ed7953"
             ],
             [
              0.7777777777777778,
              "#fb9f3a"
             ],
             [
              0.8888888888888888,
              "#fdca26"
             ],
             [
              1,
              "#f0f921"
             ]
            ],
            "type": "contour"
           }
          ],
          "contourcarpet": [
           {
            "colorbar": {
             "outlinewidth": 0,
             "ticks": ""
            },
            "type": "contourcarpet"
           }
          ],
          "heatmap": [
           {
            "colorbar": {
             "outlinewidth": 0,
             "ticks": ""
            },
            "colorscale": [
             [
              0,
              "#0d0887"
             ],
             [
              0.1111111111111111,
              "#46039f"
             ],
             [
              0.2222222222222222,
              "#7201a8"
             ],
             [
              0.3333333333333333,
              "#9c179e"
             ],
             [
              0.4444444444444444,
              "#bd3786"
             ],
             [
              0.5555555555555556,
              "#d8576b"
             ],
             [
              0.6666666666666666,
              "#ed7953"
             ],
             [
              0.7777777777777778,
              "#fb9f3a"
             ],
             [
              0.8888888888888888,
              "#fdca26"
             ],
             [
              1,
              "#f0f921"
             ]
            ],
            "type": "heatmap"
           }
          ],
          "histogram": [
           {
            "marker": {
             "pattern": {
              "fillmode": "overlay",
              "size": 10,
              "solidity": 0.2
             }
            },
            "type": "histogram"
           }
          ],
          "histogram2d": [
           {
            "colorbar": {
             "outlinewidth": 0,
             "ticks": ""
            },
            "colorscale": [
             [
              0,
              "#0d0887"
             ],
             [
              0.1111111111111111,
              "#46039f"
             ],
             [
              0.2222222222222222,
              "#7201a8"
             ],
             [
              0.3333333333333333,
              "#9c179e"
             ],
             [
              0.4444444444444444,
              "#bd3786"
             ],
             [
              0.5555555555555556,
              "#d8576b"
             ],
             [
              0.6666666666666666,
              "#ed7953"
             ],
             [
              0.7777777777777778,
              "#fb9f3a"
             ],
             [
              0.8888888888888888,
              "#fdca26"
             ],
             [
              1,
              "#f0f921"
             ]
            ],
            "type": "histogram2d"
           }
          ],
          "histogram2dcontour": [
           {
            "colorbar": {
             "outlinewidth": 0,
             "ticks": ""
            },
            "colorscale": [
             [
              0,
              "#0d0887"
             ],
             [
              0.1111111111111111,
              "#46039f"
             ],
             [
              0.2222222222222222,
              "#7201a8"
             ],
             [
              0.3333333333333333,
              "#9c179e"
             ],
             [
              0.4444444444444444,
              "#bd3786"
             ],
             [
              0.5555555555555556,
              "#d8576b"
             ],
             [
              0.6666666666666666,
              "#ed7953"
             ],
             [
              0.7777777777777778,
              "#fb9f3a"
             ],
             [
              0.8888888888888888,
              "#fdca26"
             ],
             [
              1,
              "#f0f921"
             ]
            ],
            "type": "histogram2dcontour"
           }
          ],
          "mesh3d": [
           {
            "colorbar": {
             "outlinewidth": 0,
             "ticks": ""
            },
            "type": "mesh3d"
           }
          ],
          "parcoords": [
           {
            "line": {
             "colorbar": {
              "outlinewidth": 0,
              "ticks": ""
             }
            },
            "type": "parcoords"
           }
          ],
          "pie": [
           {
            "automargin": true,
            "type": "pie"
           }
          ],
          "scatter": [
           {
            "fillpattern": {
             "fillmode": "overlay",
             "size": 10,
             "solidity": 0.2
            },
            "type": "scatter"
           }
          ],
          "scatter3d": [
           {
            "line": {
             "colorbar": {
              "outlinewidth": 0,
              "ticks": ""
             }
            },
            "marker": {
             "colorbar": {
              "outlinewidth": 0,
              "ticks": ""
             }
            },
            "type": "scatter3d"
           }
          ],
          "scattercarpet": [
           {
            "marker": {
             "colorbar": {
              "outlinewidth": 0,
              "ticks": ""
             }
            },
            "type": "scattercarpet"
           }
          ],
          "scattergeo": [
           {
            "marker": {
             "colorbar": {
              "outlinewidth": 0,
              "ticks": ""
             }
            },
            "type": "scattergeo"
           }
          ],
          "scattergl": [
           {
            "marker": {
             "colorbar": {
              "outlinewidth": 0,
              "ticks": ""
             }
            },
            "type": "scattergl"
           }
          ],
          "scattermap": [
           {
            "marker": {
             "colorbar": {
              "outlinewidth": 0,
              "ticks": ""
             }
            },
            "type": "scattermap"
           }
          ],
          "scattermapbox": [
           {
            "marker": {
             "colorbar": {
              "outlinewidth": 0,
              "ticks": ""
             }
            },
            "type": "scattermapbox"
           }
          ],
          "scatterpolar": [
           {
            "marker": {
             "colorbar": {
              "outlinewidth": 0,
              "ticks": ""
             }
            },
            "type": "scatterpolar"
           }
          ],
          "scatterpolargl": [
           {
            "marker": {
             "colorbar": {
              "outlinewidth": 0,
              "ticks": ""
             }
            },
            "type": "scatterpolargl"
           }
          ],
          "scatterternary": [
           {
            "marker": {
             "colorbar": {
              "outlinewidth": 0,
              "ticks": ""
             }
            },
            "type": "scatterternary"
           }
          ],
          "surface": [
           {
            "colorbar": {
             "outlinewidth": 0,
             "ticks": ""
            },
            "colorscale": [
             [
              0,
              "#0d0887"
             ],
             [
              0.1111111111111111,
              "#46039f"
             ],
             [
              0.2222222222222222,
              "#7201a8"
             ],
             [
              0.3333333333333333,
              "#9c179e"
             ],
             [
              0.4444444444444444,
              "#bd3786"
             ],
             [
              0.5555555555555556,
              "#d8576b"
             ],
             [
              0.6666666666666666,
              "#ed7953"
             ],
             [
              0.7777777777777778,
              "#fb9f3a"
             ],
             [
              0.8888888888888888,
              "#fdca26"
             ],
             [
              1,
              "#f0f921"
             ]
            ],
            "type": "surface"
           }
          ],
          "table": [
           {
            "cells": {
             "fill": {
              "color": "#EBF0F8"
             },
             "line": {
              "color": "white"
             }
            },
            "header": {
             "fill": {
              "color": "#C8D4E3"
             },
             "line": {
              "color": "white"
             }
            },
            "type": "table"
           }
          ]
         },
         "layout": {
          "annotationdefaults": {
           "arrowcolor": "#2a3f5f",
           "arrowhead": 0,
           "arrowwidth": 1
          },
          "autotypenumbers": "strict",
          "coloraxis": {
           "colorbar": {
            "outlinewidth": 0,
            "ticks": ""
           }
          },
          "colorscale": {
           "diverging": [
            [
             0,
             "#8e0152"
            ],
            [
             0.1,
             "#c51b7d"
            ],
            [
             0.2,
             "#de77ae"
            ],
            [
             0.3,
             "#f1b6da"
            ],
            [
             0.4,
             "#fde0ef"
            ],
            [
             0.5,
             "#f7f7f7"
            ],
            [
             0.6,
             "#e6f5d0"
            ],
            [
             0.7,
             "#b8e186"
            ],
            [
             0.8,
             "#7fbc41"
            ],
            [
             0.9,
             "#4d9221"
            ],
            [
             1,
             "#276419"
            ]
           ],
           "sequential": [
            [
             0,
             "#0d0887"
            ],
            [
             0.1111111111111111,
             "#46039f"
            ],
            [
             0.2222222222222222,
             "#7201a8"
            ],
            [
             0.3333333333333333,
             "#9c179e"
            ],
            [
             0.4444444444444444,
             "#bd3786"
            ],
            [
             0.5555555555555556,
             "#d8576b"
            ],
            [
             0.6666666666666666,
             "#ed7953"
            ],
            [
             0.7777777777777778,
             "#fb9f3a"
            ],
            [
             0.8888888888888888,
             "#fdca26"
            ],
            [
             1,
             "#f0f921"
            ]
           ],
           "sequentialminus": [
            [
             0,
             "#0d0887"
            ],
            [
             0.1111111111111111,
             "#46039f"
            ],
            [
             0.2222222222222222,
             "#7201a8"
            ],
            [
             0.3333333333333333,
             "#9c179e"
            ],
            [
             0.4444444444444444,
             "#bd3786"
            ],
            [
             0.5555555555555556,
             "#d8576b"
            ],
            [
             0.6666666666666666,
             "#ed7953"
            ],
            [
             0.7777777777777778,
             "#fb9f3a"
            ],
            [
             0.8888888888888888,
             "#fdca26"
            ],
            [
             1,
             "#f0f921"
            ]
           ]
          },
          "colorway": [
           "#636efa",
           "#EF553B",
           "#00cc96",
           "#ab63fa",
           "#FFA15A",
           "#19d3f3",
           "#FF6692",
           "#B6E880",
           "#FF97FF",
           "#FECB52"
          ],
          "font": {
           "color": "#2a3f5f"
          },
          "geo": {
           "bgcolor": "white",
           "lakecolor": "white",
           "landcolor": "#E5ECF6",
           "showlakes": true,
           "showland": true,
           "subunitcolor": "white"
          },
          "hoverlabel": {
           "align": "left"
          },
          "hovermode": "closest",
          "mapbox": {
           "style": "light"
          },
          "paper_bgcolor": "white",
          "plot_bgcolor": "#E5ECF6",
          "polar": {
           "angularaxis": {
            "gridcolor": "white",
            "linecolor": "white",
            "ticks": ""
           },
           "bgcolor": "#E5ECF6",
           "radialaxis": {
            "gridcolor": "white",
            "linecolor": "white",
            "ticks": ""
           }
          },
          "scene": {
           "xaxis": {
            "backgroundcolor": "#E5ECF6",
            "gridcolor": "white",
            "gridwidth": 2,
            "linecolor": "white",
            "showbackground": true,
            "ticks": "",
            "zerolinecolor": "white"
           },
           "yaxis": {
            "backgroundcolor": "#E5ECF6",
            "gridcolor": "white",
            "gridwidth": 2,
            "linecolor": "white",
            "showbackground": true,
            "ticks": "",
            "zerolinecolor": "white"
           },
           "zaxis": {
            "backgroundcolor": "#E5ECF6",
            "gridcolor": "white",
            "gridwidth": 2,
            "linecolor": "white",
            "showbackground": true,
            "ticks": "",
            "zerolinecolor": "white"
           }
          },
          "shapedefaults": {
           "line": {
            "color": "#2a3f5f"
           }
          },
          "ternary": {
           "aaxis": {
            "gridcolor": "white",
            "linecolor": "white",
            "ticks": ""
           },
           "baxis": {
            "gridcolor": "white",
            "linecolor": "white",
            "ticks": ""
           },
           "bgcolor": "#E5ECF6",
           "caxis": {
            "gridcolor": "white",
            "linecolor": "white",
            "ticks": ""
           }
          },
          "title": {
           "x": 0.05
          },
          "xaxis": {
           "automargin": true,
           "gridcolor": "white",
           "linecolor": "white",
           "ticks": "",
           "title": {
            "standoff": 15
           },
           "zerolinecolor": "white",
           "zerolinewidth": 2
          },
          "yaxis": {
           "automargin": true,
           "gridcolor": "white",
           "linecolor": "white",
           "ticks": "",
           "title": {
            "standoff": 15
           },
           "zerolinecolor": "white",
           "zerolinewidth": 2
          }
         }
        }
       }
      },
      "image/png": "[encoded data removed]"
     },
     "metadata": {},
     "output_type": "display_data"
    }
   ],
   "source": [
    "import pandas as pd\n",
    "import matplotlib.pyplot as plt\n",
    "import numpy as np\n",
    "import plotly.graph_objects as plotly\n",
    "\n",
    "data1 = pd.read_csv(\"./data1.csv\")\n",
    "x = data1['x1']\n",
    "y = data1['x2']\n",
    "z = data1['y']\n",
    "# print(data1.head())\n",
    "\n",
    "fig = plotly.Figure(data=[plotly.Scatter3d(\n",
    "    x=x, y=y, z=z,\n",
    "    mode='markers',\n",
    "    marker=dict(\n",
    "        size=5\n",
    "    )\n",
    ")])\n",
    "\n",
    "fig.update_layout(\n",
    "    scene=dict(\n",
    "        xaxis_title='X Axis',\n",
    "        yaxis_title='Y Axis',\n",
    "        zaxis_title='Z Axis'\n",
    "    )\n",
    ")\n",
    "\n",
    "fig.show()"
   ]
  },
  {
   "cell_type": "markdown",
   "id": "2a139aec-5377-4a4a-87e7-f28354ee266b",
   "metadata": {},
   "source": [
    "Widzimy, że poza jednym odstającym punktem jest OK."
   ]
  },
  {
   "cell_type": "code",
   "execution_count": 2,
   "id": "712ea6a7-cc30-40b6-ba55-56dd096bb716",
   "metadata": {},
   "outputs": [],
   "source": [
    "from sklearn.neighbors import KNeighborsRegressor\n",
    "\n",
    "def preprocess_data(X_train, y_train, threshold=3.0, n=5):\n",
    "    X = pd.DataFrame(X_train).copy()\n",
    "    y = pd.Series(y_train).copy()\n",
    "    \n",
    "    X.reset_index(drop=True, inplace=True)\n",
    "    y.reset_index(drop=True, inplace=True)\n",
    "\n",
    "    knn = KNeighborsRegressor(n_neighbors=n)\n",
    "    #dla kazdego P liczymy srednia y dla 5 sasiadow\n",
    "    knn.fit(X, y)\n",
    "\n",
    "    y_pred = knn.predict(X)\n",
    "    # print(y_pred)\n",
    "\n",
    "    #roznica faktycznego y i przewidywanego\n",
    "    diff = y - y_pred\n",
    "    diff_normalized = (diff - diff.mean()) / diff.std()\n",
    "    \n",
    "    # Keep points within threshold\n",
    "    mask = np.abs(diff_normalized) <= threshold\n",
    "    X_clean = X[mask].reset_index(drop=True)\n",
    "    y_clean = y[mask].reset_index(drop=True)\n",
    "\n",
    "    removed_points = X[~mask].copy()\n",
    "    removed_points['y'] = y[~mask]\n",
    "    print(\"Removed points:\")\n",
    "    print(removed_points)\n",
    "    \n",
    "    return X_clean, y_clean"
   ]
  },
  {
   "cell_type": "code",
   "execution_count": 3,
   "id": "a5925276-cf47-4152-a6ea-5b069664841b",
   "metadata": {},
   "outputs": [
    {
     "data": {
      "application/vnd.plotly.v1+json": {
       "config": {
        "plotlyServerURL": "https://plot.ly"
       },
       "data": [
        {
         "marker": {
          "opacity": 0.8,
          "size": 5
         },
         "mode": "markers",
         "type": "scatter3d",
         "x": {
          "bdata": "m7SAOxZEI8CdHNNNQXROQGUV/FdS0WjACQ/k6sFPesArHcWcFCwUQDXwH+IJzIDA5P5dfitnZkB7yCl0/aNjwF+J9mf1S0LAVnG6l8GZ+L89sl6xK04bQPaTc1oe50XAR4RvL6N32r+DRrjiZYRgwDoumRnszA5ABI9O4TFFGED3GmlGIhZ5wEFUbXltx35ALSY2H1cxQsBvdL5t4IA+QF5DV78ldnDArUChXGLGfsD5VATu7x1RwIuX2a0GSEDAvi9wcTvR3z+KTXUSy5F/QC1VL+DR4XlAQ9E0D/1OEkAO773owD51wPjtd2rmrHzAkzgKlD3rGsDUb/RriqllQC+MsoYkpEnAuM11lvA6bMAPCoztfHp3wNOFeQt7m1hAvE4TSzRugsAu3jQivZZFQOH0y7MUWFhATKHafRqpK8Ahak+H3TBtQCodi/GKljfApAmIB5x4QMCVjXux/4VNQF2yfQo4s3FAdcEJGm3IcMAH1i/g/qBVQN/Esao1Q1hApqkSI1NXrT8KtnR5QUuAwPhzhrmPXX/APSnVNqw1P8CfDa/a+6N0QO1n679SFgzAJ/tjMVxTWMBhszO3CKtGwCUE7QZYMHhADgi+s4cpJ0B/xOkDTRNhQLSospyCcXJAbUY48wy4YUCHl5ZH7Wc9wDB8CqH/jljAIXg6X2WcY0BfibRLY0WCwORPEhra+wXAMmAkDz+/cMAJtjrOR316QLl5mRcWkqA/btqt4fm9KMAHWFC92iZ+QG5H/oHuohq/pL/67D5LSMD5CnfT0qkZQAISLJJPgnvA8e0Cyju/dEAEdIDc1U1rwBqpMQAAdoFA2UElrmPhOECcBrlJFAZWwCuuv1+rjCbARINWWFc6J0AvWGB+zfd0wC1NALScFDzAt58IuZ2GfcDi6VOWOk87QERJ7er6qoE/FsJqLGHZLUALob3ZavpAQNn7Ac1fZXlAuOoZRmqVM8CmSDrag1p3QN4wPLzIS1HAQBvzGfR2Y0ApL8dlu0bAPwPtLzf/iXTAfB1A2MySc0CdaqmTnlg0wNkDMfk0I0xAuTNVKMmucUA=",
          "dtype": "f8"
         },
         "y": {
          "bdata": "367RUZLEd0C9mPse1O5tQGo3dmDrMk9ATvlK/4andUCpIokcqrNxQKZPQE1sP3hAvxWBmOE7VUBLd7bLJ1dSQHPACeDhPGpAsR4QS3cfXUAB6CjuFeZLQPHJ9XxuUWJAfnWPSyChc0BznWdoM7ZpQLbUB7OFlDJAhVGc5WoNUUBLZ3EQ3rh3QANAFTe+NXRAnDzA7s+IQ0BpdAex8wFmQA2x8rJDwmhAQHH4i6a7dkCQ3LuCJJBwQGAaTOTeAGpA5fnjKEZ8UkAhnCae2WBzQOwKhSHlXnZAUG8lv/4Ld0ApL4VJKZlTQD3GiW06RGBALn2/A4kiW0ACyQlNcdZhQMzTd4aCImtAoMeDiA8OdEBnqpKOE6x4QP84Jxcf31NAC44eAfRidECwGxlYpTlyQLQIQR4snj1AZqHf734sR0Bfkk5NNypvQPmIdwRgbDlAvxmptVhCYEBzb3ZSvOBvQO0d4t1ZnGdAqlhnQsTUcUD+wfoeWRBsQNn4AmmVsGhA3JavaIZgZUAYwRCDCpRFQHIAu6IN0m9AewnbcLRtaUBpno6N4e1YQAQyQ/yG43JALvbqJb7KPkD1xv/TQx9QQK6kDW74M3RA5IvuB1nJdUCKF7CJMahSQLL1iKiU92pANzNd/PtmdkDZWMuVqAJGQBOQQM36WmVA1iTT/KyEdUD5/dXCkIlpQA6hKb/1NVZAXdLFZHnhYEAu7x5e/yhgQDKWI0NSk3FA6JCrw2dLeEBpBDR0oC1ZQL5pXRd8Fl5A4wSeYnKCLUB51JCfSiJpQKw9y3dZ3VtAirSFzsj0V0AU5wvO/nhoQKqwY22dNFhAC1Pnk10Kc0AHPWGqlTRyQBbb5r6DnW9AxVcafOrJakDHutmb7+F0QOGpsrXfplJALQ8M/22LbUCCOifuX4oaQOadXLZKplZA1Yc/1MdvUUBnSfxhNlZjQMfb54QSgUtAaCRCI9ixRkA9/OvL+O51QHX6atzlf3BAnbv6BJLCa0Be0XMsay9YQA5HPkwubnZApk3u2rKnb0DqOCPv4XVhQGDILHOBbXZAwGUlGDR/c0A=",
          "dtype": "f8"
         },
         "z": {
          "bdata": "pzFKZZTpd8D6czwsVUplwP5ilVaslG/ALRr4clvBh8Bx/LOTH8VwwEl215/1p4zA+eAxEzdGWUB3o03djrprwFPWqdEP723A1D9OuX5PW8BX2eubA+hDwFHqHht55WbAoOBBN1QYc8DIxWLlsZZ0wKrBLJvWoRfAN6BKcmUfSsDyMnm5dimIwBWIZOk/C2ZAR7zpVAEWUcDBsHjB8kthwL3502eDWHzAcDBpxkl+isAk4OcqM1N0wLGuwEZo+GzAMXSR559bUMCEK39CZpBpQM0W1q6F9U9APxDN+jwXdsAM1Fp/CJt5wLNOCUZdLoLAvmKyXcYVW8DnKqsjJopDQDAqyiFZSXDAOMj7ow3QgMAjMUENf8+HwA+M7ubK3jpAn8Rrh3RmjMCZioUIFT5uwH/Xyvj101JABB+DFSepScCitzZc/U8ewNANTdnpIEXApkfPBPVaY8BIVvrg53JnwL8IXE+bW1lA3oz92V0NgcA8P1rW/D1gwDMjMJQbZ1fAyCED9T1TZMB9PgylBWCBwAAAAAAAKIlA/QeiOLEybMAzD4kQ8aRtQIxLl/a0qnLAwnxgZBXlXcBphyJR5lNZwGWZE+50ElJAVo+HAGhSdMCrN3L28aJRQCVIOj2OH1ZAxNDJ1mP3acCsaN43nzFQwAnKp6ZIVnDASH+aIKtUZsCp3GU79m2IwPa4LZn89FTAGigZzr+3eMB1WW16F+pyQIAgBtvE7XDA4b8v5DeveMB5YDqMbWZ4QNYqLH60fVzA15ICyUPoS8DQuwxaIzJnwDkz0VJP/IDAgRAkSpZhbkARwJM33G55wAFR7ka4aX1A913w7fYHccAQ3okfpDJ3wErE55BsAnDAjhmP7x5raMDd+fLAt5uEwJXvncF0g1fAWUo72l32hcA1wQUTXtw8QPGrKBQY0FTAvS9X1Br8RsAyrwIA8GFcwAZphIZnc3ZAR9r42ek7TMD/KrgGU5Y/QPktfHUMZnTANKTlm0hZTcByY8RPrUVWwJlUZcZQQYXAQrPr3spsUUCKaGQlAPRiwOlrr2hHfXLAZ5X8/LUbNMA=",
          "dtype": "f8"
         }
        },
        {
         "opacity": 0.6,
         "type": "surface",
         "x": {
          "bdata": "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",
          "dtype": "f8",
          "shape": "30, 30"
         },
         "y": {
          "bdata": "gjon7l+KGkCCOifuX4oaQII6J+5fihpAgjon7l+KGkCCOifuX4oaQII6J+5fihpAgjon7l+KGkCCOifuX4oaQII6J+5fihpAgjon7l+KGkCCOifuX4oaQII6J+5fihpAgjon7l+KGkCCOifuX4oaQII6J+5fihpAgjon7l+KGkCCOifuX4oaQII6J+5fihpAgjon7l+KGkCCOifuX4oaQII6J+5fihpAgjon7l+KGkCCOifuX4oaQII6J+5fihpAgjon7l+KGkCCOifuX4oaQII6J+5fihpAgjon7l+KGkCCOifuX4oaQII6J+5fihpAWC6Y18AENEBYLpjXwAQ0QFgumNfABDRAWC6Y18AENEBYLpjXwAQ0QFgumNfABDRAWC6Y18AENEBYLpjXwAQ0QFgumNfABDRAWC6Y18AENEBYLpjXwAQ0QFgumNfABDRAWC6Y18AENEBYLpjXwAQ0QFgumNfABDRAWC6Y18AENEBYLpjXwAQ0QFgumNfABDRAWC6Y18AENEBYLpjXwAQ0QFgumNfABDRAWC6Y18AENEBYLpjXwAQ0QFgumNfABDRAWC6Y18AENEBYLpjXwAQ0QFgumNfABDRAWC6Y18AENEBYLpjXwAQ0QFgumNfABDRACEfT2XSzQEAIR9PZdLNAQAhH09l0s0BACEfT2XSzQEAIR9PZdLNAQAhH09l0s0BACEfT2XSzQEAIR9PZdLNAQAhH09l0s0BACEfT2XSzQEAIR9PZdLNAQAhH09l0s0BACEfT2XSzQEAIR9PZdLNAQAhH09l0s0BACEfT2XSzQEAIR9PZdLNAQAhH09l0s0BACEfT2XSzQEAIR9PZdLNAQAhH09l0s0BACEfT2XSzQEAIR9PZdLNAQAhH09l0s0BACEfT2XSzQEAIR9PZdLNAQAhH09l0s0BACEfT2XSzQEAIR9PZdLNAQAhH09l0s0BA43baR4lkR0DjdtpHiWRHQON22keJZEdA43baR4lkR0DjdtpHiWRHQON22keJZEdA43baR4lkR0DjdtpHiWRHQON22keJZEdA43baR4lkR0DjdtpHiWRHQON22keJZEdA43baR4lkR0DjdtpHiWRHQON22keJZEdA43baR4lkR0DjdtpHiWRHQON22keJZEdA43baR4lkR0DjdtpHiWRHQON22keJZEdA43baR4lkR0DjdtpHiWRHQON22keJZEdA43baR4lkR0DjdtpHiWRHQON22keJZEdA43baR4lkR0DjdtpHiWRHQON22keJZEdAv6bhtZ0VTkC/puG1nRVOQL+m4bWdFU5Av6bhtZ0VTkC/puG1nRVOQL+m4bWdFU5Av6bhtZ0VTkC/puG1nRVOQL+m4bWdFU5Av6bhtZ0VTkC/puG1nRVOQL+m4bWdFU5Av6bhtZ0VTkC/puG1nRVOQL+m4bWdFU5Av6bhtZ0VTkC/puG1nRVOQL+m4bWdFU5Av6bhtZ0VTkC/puG1nRVOQL+m4bWdFU5Av6bhtZ0VTkC/puG1nRVOQL+m4bWdFU5Av6bhtZ0VTkC/puG1nRVOQL+m4bWdFU5Av6bhtZ0VTkC/puG1nRVOQL+m4bWdFU5ATWv0EVljUkBNa/QRWWNSQE1r9BFZY1JATWv0EVljUkBNa/QRWWNSQE1r9BFZY1JATWv0EVljUkBNa/QRWWNSQE1r9BFZY1JATWv0EVljUkBNa/QRWWNSQE1r9BFZY1JATWv0EVljUkBNa/QRWWNSQE1r9BFZY1JATWv0EVljUkBNa/QRWWNSQE1r9BFZY1JATWv0EVljUkBNa/QRWWNSQE1r9BFZY1JATWv0EVljUkBNa/QRWWNSQE1r9BFZY1JATWv0EVljUkBNa/QRWWNSQE1r9BFZY1JATWv0EVljUkBNa/QRWWNSQE1r9BFZY1JAOwP4SOO7VUA7A/hI47tVQDsD+Ejju1VAOwP4SOO7VUA7A/hI47tVQDsD+Ejju1VAOwP4SOO7VUA7A/hI47tVQDsD+Ejju1VAOwP4SOO7VUA7A/hI47tVQDsD+Ejju1VAOwP4SOO7VUA7A/hI47tVQDsD+Ejju1VAOwP4SOO7VUA7A/hI47tVQDsD+Ejju1VAOwP4SOO7VUA7A/hI47tVQDsD+Ejju1VAOwP4SOO7VUA7A/hI47tVQDsD+Ejju1VAOwP4SOO7VUA7A/hI47tVQDsD+Ejju1VAOwP4SOO7VUA7A/hI47tVQDsD+Ejju1VAKZv7f20UWUApm/t/bRRZQCmb+39tFFlAKZv7f20UWUApm/t/bRRZQCmb+39tFFlAKZv7f20UWUApm/t/bRRZQCmb+39tFFlAKZv7f20UWUApm/t/bRRZQCmb+39tFFlAKZv7f20UWUApm/t/bRRZQCmb+39tFFlAKZv7f20UWUApm/t/bRRZQCmb+39tFFlAKZv7f20UWUApm/t/bRRZQCmb+39tFFlAKZv7f20UWUApm/t/bRRZQCmb+39tFFlAKZv7f20UWUApm/t/bRRZQCmb+39tFFlAKZv7f20UWUApm/t/bRRZQCmb+39tFFlAFzP/tvdsXEAXM/+292xcQBcz/7b3bFxAFzP/tvdsXEAXM/+292xcQBcz/7b3bFxAFzP/tvdsXEAXM/+292xcQBcz/7b3bFxAFzP/tvdsXEAXM/+292xcQBcz/7b3bFxAFzP/tvdsXEAXM/+292xcQBcz/7b3bFxAFzP/tvdsXEAXM/+292xcQBcz/7b3bFxAFzP/tvdsXEAXM/+292xcQBcz/7b3bFxAFzP/tvdsXEAXM/+292xcQBcz/7b3bFxAFzP/tvdsXEAXM/+292xcQBcz/7b3bFxAFzP/tvdsXEAXM/+292xcQBcz/7b3bFxABcsC7oHFX0AFywLugcVfQAXLAu6BxV9ABcsC7oHFX0AFywLugcVfQAXLAu6BxV9ABcsC7oHFX0AFywLugcVfQAXLAu6BxV9ABcsC7oHFX0AFywLugcVfQAXLAu6BxV9ABcsC7oHFX0AFywLugcVfQAXLAu6BxV9ABcsC7oHFX0AFywLugcVfQAXLAu6BxV9ABcsC7oHFX0AFywLugcVfQAXLAu6BxV9ABcsC7oHFX0AFywLugcVfQAXLAu6BxV9ABcsC7oHFX0AFywLugcVfQAXLAu6BxV9ABcsC7oHFX0AFywLugcVfQAXLAu6BxV9AeTGDEgaPYUB5MYMSBo9hQHkxgxIGj2FAeTGDEgaPYUB5MYMSBo9hQHkxgxIGj2FAeTGDEgaPYUB5MYMSBo9hQHkxgxIGj2FAeTGDEgaPYUB5MYMSBo9hQHkxgxIGj2FAeTGDEgaPYUB5MYMSBo9hQHkxgxIGj2FAeTGDEgaPYUB5MYMSBo9hQHkxgxIGj2FAeTGDEgaPYUB5MYMSBo9hQHkxgxIGj2FAeTGDEgaPYUB5MYMSBo9hQHkxgxIGj2FAeTGDEgaPYUB5MYMSBo9hQHkxgxIGj2FAeTGDEgaPYUB5MYMSBo9hQHkxgxIGj2FAcP0ELks7Y0Bw/QQuSztjQHD9BC5LO2NAcP0ELks7Y0Bw/QQuSztjQHD9BC5LO2NAcP0ELks7Y0Bw/QQuSztjQHD9BC5LO2NAcP0ELks7Y0Bw/QQuSztjQHD9BC5LO2NAcP0ELks7Y0Bw/QQuSztjQHD9BC5LO2NAcP0ELks7Y0Bw/QQuSztjQHD9BC5LO2NAcP0ELks7Y0Bw/QQuSztjQHD9BC5LO2NAcP0ELks7Y0Bw/QQuSztjQHD9BC5LO2NAcP0ELks7Y0Bw/QQuSztjQHD9BC5LO2NAcP0ELks7Y0Bw/QQuSztjQHD9BC5LO2NAZ8mGSZDnZEBnyYZJkOdkQGfJhkmQ52RAZ8mGSZDnZEBnyYZJkOdkQGfJhkmQ52RAZ8mGSZDnZEBnyYZJkOdkQGfJhkmQ52RAZ8mGSZDnZEBnyYZJkOdkQGfJhkmQ52RAZ8mGSZDnZEBnyYZJkOdkQGfJhkmQ52RAZ8mGSZDnZEBnyYZJkOdkQGfJhkmQ52RAZ8mGSZDnZEBnyYZJkOdkQGfJhkmQ52RAZ8mGSZDnZEBnyYZJkOdkQGfJhkmQ52RAZ8mGSZDnZEBnyYZJkOdkQGfJhkmQ52RAZ8mGSZDnZEBnyYZJkOdkQGfJhkmQ52RAXpUIZdWTZkBelQhl1ZNmQF6VCGXVk2ZAXpUIZdWTZkBelQhl1ZNmQF6VCGXVk2ZAXpUIZdWTZkBelQhl1ZNmQF6VCGXVk2ZAXpUIZdWTZkBelQhl1ZNmQF6VCGXVk2ZAXpUIZdWTZkBelQhl1ZNmQF6VCGXVk2ZAXpUIZdWTZkBelQhl1ZNmQF6VCGXVk2ZAXpUIZdWTZkBelQhl1ZNmQF6VCGXVk2ZAXpUIZdWTZkBelQhl1ZNmQF6VCGXVk2ZAXpUIZdWTZkBelQhl1ZNmQF6VCGXVk2ZAXpUIZdWTZkBelQhl1ZNmQF6VCGXVk2ZAVWGKgBpAaEBVYYqAGkBoQFVhioAaQGhAVWGKgBpAaEBVYYqAGkBoQFVhioAaQGhAVWGKgBpAaEBVYYqAGkBoQFVhioAaQGhAVWGKgBpAaEBVYYqAGkBoQFVhioAaQGhAVWGKgBpAaEBVYYqAGkBoQFVhioAaQGhAVWGKgBpAaEBVYYqAGkBoQFVhioAaQGhAVWGKgBpAaEBVYYqAGkBoQFVhioAaQGhAVWGKgBpAaEBVYYqAGkBoQFVhioAaQGhAVWGKgBpAaEBVYYqAGkBoQFVhioAaQGhAVWGKgBpAaEBVYYqAGkBoQFVhioAaQGhATC0MnF/saUBMLQycX+xpQEwtDJxf7GlATC0MnF/saUBMLQycX+xpQEwtDJxf7GlATC0MnF/saUBMLQycX+xpQEwtDJxf7GlATC0MnF/saUBMLQycX+xpQEwtDJxf7GlATC0MnF/saUBMLQycX+xpQEwtDJxf7GlATC0MnF/saUBMLQycX+xpQEwtDJxf7GlATC0MnF/saUBMLQycX+xpQEwtDJxf7GlATC0MnF/saUBMLQycX+xpQEwtDJxf7GlATC0MnF/saUBMLQycX+xpQEwtDJxf7GlATC0MnF/saUBMLQycX+xpQEwtDJxf7GlAQ/mNt6SYa0BD+Y23pJhrQEP5jbekmGtAQ/mNt6SYa0BD+Y23pJhrQEP5jbekmGtAQ/mNt6SYa0BD+Y23pJhrQEP5jbekmGtAQ/mNt6SYa0BD+Y23pJhrQEP5jbekmGtAQ/mNt6SYa0BD+Y23pJhrQEP5jbekmGtAQ/mNt6SYa0BD+Y23pJhrQEP5jbekmGtAQ/mNt6SYa0BD+Y23pJhrQEP5jbekmGtAQ/mNt6SYa0BD+Y23pJhrQEP5jbekmGtAQ/mNt6SYa0BD+Y23pJhrQEP5jbekmGtAQ/mNt6SYa0BD+Y23pJhrQEP5jbekmGtAOsUP0+lEbUA6xQ/T6URtQDrFD9PpRG1AOsUP0+lEbUA6xQ/T6URtQDrFD9PpRG1AOsUP0+lEbUA6xQ/T6URtQDrFD9PpRG1AOsUP0+lEbUA6xQ/T6URtQDrFD9PpRG1AOsUP0+lEbUA6xQ/T6URtQDrFD9PpRG1AOsUP0+lEbUA6xQ/T6URtQDrFD9PpRG1AOsUP0+lEbUA6xQ/T6URtQDrFD9PpRG1AOsUP0+lEbUA6xQ/T6URtQDrFD9PpRG1AOsUP0+lEbUA6xQ/T6URtQDrFD9PpRG1AOsUP0+lEbUA6xQ/T6URtQDrFD9PpRG1AMZGR7i7xbkAxkZHuLvFuQDGRke4u8W5AMZGR7i7xbkAxkZHuLvFuQDGRke4u8W5AMZGR7i7xbkAxkZHuLvFuQDGRke4u8W5AMZGR7i7xbkAxkZHuLvFuQDGRke4u8W5AMZGR7i7xbkAxkZHuLvFuQDGRke4u8W5AMZGR7i7xbkAxkZHuLvFuQDGRke4u8W5AMZGR7i7xbkAxkZHuLvFuQDGRke4u8W5AMZGR7i7xbkAxkZHuLvFuQDGRke4u8W5AMZGR7i7xbkAxkZHuLvFuQDGRke4u8W5AMZGR7i7xbkAxkZHuLvFuQDGRke4u8W5AlK4JBbpOcECUrgkFuk5wQJSuCQW6TnBAlK4JBbpOcECUrgkFuk5wQJSuCQW6TnBAlK4JBbpOcECUrgkFuk5wQJSuCQW6TnBAlK4JBbpOcECUrgkFuk5wQJSuCQW6TnBAlK4JBbpOcECUrgkFuk5wQJSuCQW6TnBAlK4JBbpOcECUrgkFuk5wQJSuCQW6TnBAlK4JBbpOcECUrgkFuk5wQJSuCQW6TnBAlK4JBbpOcECUrgkFuk5wQJSuCQW6TnBAlK4JBbpOcECUrgkFuk5wQJSuCQW6TnBAlK4JBbpOcECUrgkFuk5wQJSuCQW6TnBAj5TKktwkcUCPlMqS3CRxQI+UypLcJHFAj5TKktwkcUCPlMqS3CRxQI+UypLcJHFAj5TKktwkcUCPlMqS3CRxQI+UypLcJHFAj5TKktwkcUCPlMqS3CRxQI+UypLcJHFAj5TKktwkcUCPlMqS3CRxQI+UypLcJHFAj5TKktwkcUCPlMqS3CRxQI+UypLcJHFAj5TKktwkcUCPlMqS3CRxQI+UypLcJHFAj5TKktwkcUCPlMqS3CRxQI+UypLcJHFAj5TKktwkcUCPlMqS3CRxQI+UypLcJHFAj5TKktwkcUCPlMqS3CRxQI+UypLcJHFAi3qLIP/6cUCLeosg//pxQIt6iyD/+nFAi3qLIP/6cUCLeosg//pxQIt6iyD/+nFAi3qLIP/6cUCLeosg//pxQIt6iyD/+nFAi3qLIP/6cUCLeosg//pxQIt6iyD/+nFAi3qLIP/6cUCLeosg//pxQIt6iyD/+nFAi3qLIP/6cUCLeosg//pxQIt6iyD/+nFAi3qLIP/6cUCLeosg//pxQIt6iyD/+nFAi3qLIP/6cUCLeosg//pxQIt6iyD/+nFAi3qLIP/6cUCLeosg//pxQIt6iyD/+nFAi3qLIP/6cUCLeosg//pxQIt6iyD/+nFAhmBMriHRckCGYEyuIdFyQIZgTK4h0XJAhmBMriHRckCGYEyuIdFyQIZgTK4h0XJAhmBMriHRckCGYEyuIdFyQIZgTK4h0XJAhmBMriHRckCGYEyuIdFyQIZgTK4h0XJAhmBMriHRckCGYEyuIdFyQIZgTK4h0XJAhmBMriHRckCGYEyuIdFyQIZgTK4h0XJAhmBMriHRckCGYEyuIdFyQIZgTK4h0XJAhmBMriHRckCGYEyuIdFyQIZgTK4h0XJAhmBMriHRckCGYEyuIdFyQIZgTK4h0XJAhmBMriHRckCGYEyuIdFyQIZgTK4h0XJAgkYNPESnc0CCRg08RKdzQIJGDTxEp3NAgkYNPESnc0CCRg08RKdzQIJGDTxEp3NAgkYNPESnc0CCRg08RKdzQIJGDTxEp3NAgkYNPESnc0CCRg08RKdzQIJGDTxEp3NAgkYNPESnc0CCRg08RKdzQIJGDTxEp3NAgkYNPESnc0CCRg08RKdzQIJGDTxEp3NAgkYNPESnc0CCRg08RKdzQIJGDTxEp3NAgkYNPESnc0CCRg08RKdzQIJGDTxEp3NAgkYNPESnc0CCRg08RKdzQIJGDTxEp3NAgkYNPESnc0CCRg08RKdzQIJGDTxEp3NAfSzOyWZ9dEB9LM7JZn10QH0szslmfXRAfSzOyWZ9dEB9LM7JZn10QH0szslmfXRAfSzOyWZ9dEB9LM7JZn10QH0szslmfXRAfSzOyWZ9dEB9LM7JZn10QH0szslmfXRAfSzOyWZ9dEB9LM7JZn10QH0szslmfXRAfSzOyWZ9dEB9LM7JZn10QH0szslmfXRAfSzOyWZ9dEB9LM7JZn10QH0szslmfXRAfSzOyWZ9dEB9LM7JZn10QH0szslmfXRAfSzOyWZ9dEB9LM7JZn10QH0szslmfXRAfSzOyWZ9dEB9LM7JZn10QH0szslmfXRAeRKPV4lTdUB5Eo9XiVN1QHkSj1eJU3VAeRKPV4lTdUB5Eo9XiVN1QHkSj1eJU3VAeRKPV4lTdUB5Eo9XiVN1QHkSj1eJU3VAeRKPV4lTdUB5Eo9XiVN1QHkSj1eJU3VAeRKPV4lTdUB5Eo9XiVN1QHkSj1eJU3VAeRKPV4lTdUB5Eo9XiVN1QHkSj1eJU3VAeRKPV4lTdUB5Eo9XiVN1QHkSj1eJU3VAeRKPV4lTdUB5Eo9XiVN1QHkSj1eJU3VAeRKPV4lTdUB5Eo9XiVN1QHkSj1eJU3VAeRKPV4lTdUB5Eo9XiVN1QHkSj1eJU3VAdPhP5aspdkB0+E/lqyl2QHT4T+WrKXZAdPhP5aspdkB0+E/lqyl2QHT4T+WrKXZAdPhP5aspdkB0+E/lqyl2QHT4T+WrKXZAdPhP5aspdkB0+E/lqyl2QHT4T+WrKXZAdPhP5aspdkB0+E/lqyl2QHT4T+WrKXZAdPhP5aspdkB0+E/lqyl2QHT4T+WrKXZAdPhP5aspdkB0+E/lqyl2QHT4T+WrKXZAdPhP5aspdkB0+E/lqyl2QHT4T+WrKXZAdPhP5aspdkB0+E/lqyl2QHT4T+WrKXZAdPhP5aspdkB0+E/lqyl2QHT4T+WrKXZAcN4Qc87/dkBw3hBzzv92QHDeEHPO/3ZAcN4Qc87/dkBw3hBzzv92QHDeEHPO/3ZAcN4Qc87/dkBw3hBzzv92QHDeEHPO/3ZAcN4Qc87/dkBw3hBzzv92QHDeEHPO/3ZAcN4Qc87/dkBw3hBzzv92QHDeEHPO/3ZAcN4Qc87/dkBw3hBzzv92QHDeEHPO/3ZAcN4Qc87/dkBw3hBzzv92QHDeEHPO/3ZAcN4Qc87/dkBw3hBzzv92QHDeEHPO/3ZAcN4Qc87/dkBw3hBzzv92QHDeEHPO/3ZAcN4Qc87/dkBw3hBzzv92QHDeEHPO/3ZAa8TRAPHVd0BrxNEA8dV3QGvE0QDx1XdAa8TRAPHVd0BrxNEA8dV3QGvE0QDx1XdAa8TRAPHVd0BrxNEA8dV3QGvE0QDx1XdAa8TRAPHVd0BrxNEA8dV3QGvE0QDx1XdAa8TRAPHVd0BrxNEA8dV3QGvE0QDx1XdAa8TRAPHVd0BrxNEA8dV3QGvE0QDx1XdAa8TRAPHVd0BrxNEA8dV3QGvE0QDx1XdAa8TRAPHVd0BrxNEA8dV3QGvE0QDx1XdAa8TRAPHVd0BrxNEA8dV3QGvE0QDx1XdAa8TRAPHVd0BrxNEA8dV3QGvE0QDx1XdAZ6qSjhOseEBnqpKOE6x4QGeqko4TrHhAZ6qSjhOseEBnqpKOE6x4QGeqko4TrHhAZ6qSjhOseEBnqpKOE6x4QGeqko4TrHhAZ6qSjhOseEBnqpKOE6x4QGeqko4TrHhAZ6qSjhOseEBnqpKOE6x4QGeqko4TrHhAZ6qSjhOseEBnqpKOE6x4QGeqko4TrHhAZ6qSjhOseEBnqpKOE6x4QGeqko4TrHhAZ6qSjhOseEBnqpKOE6x4QGeqko4TrHhAZ6qSjhOseEBnqpKOE6x4QGeqko4TrHhAZ6qSjhOseEBnqpKOE6x4QGeqko4TrHhA",
          "dtype": "f8",
          "shape": "30, 30"
         },
         "z": {
          "bdata": "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",
          "dtype": "f8",
          "shape": "30, 30"
         }
        }
       ],
       "layout": {
        "scene": {
         "xaxis": {
          "title": {
           "text": "x1"
          }
         },
         "yaxis": {
          "title": {
           "text": "x2"
          }
         },
         "zaxis": {
          "title": {
           "text": "y"
          }
         }
        },
        "template": {
         "data": {
          "bar": [
           {
            "error_x": {
             "color": "#2a3f5f"
            },
            "error_y": {
             "color": "#2a3f5f"
            },
            "marker": {
             "line": {
              "color": "#E5ECF6",
              "width": 0.5
             },
             "pattern": {
              "fillmode": "overlay",
              "size": 10,
              "solidity": 0.2
             }
            },
            "type": "bar"
           }
          ],
          "barpolar": [
           {
            "marker": {
             "line": {
              "color": "#E5ECF6",
              "width": 0.5
             },
             "pattern": {
              "fillmode": "overlay",
              "size": 10,
              "solidity": 0.2
             }
            },
            "type": "barpolar"
           }
          ],
          "carpet": [
           {
            "aaxis": {
             "endlinecolor": "#2a3f5f",
             "gridcolor": "white",
             "linecolor": "white",
             "minorgridcolor": "white",
             "startlinecolor": "#2a3f5f"
            },
            "baxis": {
             "endlinecolor": "#2a3f5f",
             "gridcolor": "white",
             "linecolor": "white",
             "minorgridcolor": "white",
             "startlinecolor": "#2a3f5f"
            },
            "type": "carpet"
           }
          ],
          "choropleth": [
           {
            "colorbar": {
             "outlinewidth": 0,
             "ticks": ""
            },
            "type": "choropleth"
           }
          ],
          "contour": [
           {
            "colorbar": {
             "outlinewidth": 0,
             "ticks": ""
            },
            "colorscale": [
             [
              0,
              "#0d0887"
             ],
             [
              0.1111111111111111,
              "#46039f"
             ],
             [
              0.2222222222222222,
              "#7201a8"
             ],
             [
              0.3333333333333333,
              "#9c179e"
             ],
             [
              0.4444444444444444,
              "#bd3786"
             ],
             [
              0.5555555555555556,
              "#d8576b"
             ],
             [
              0.6666666666666666,
              "#ed7953"
             ],
             [
              0.7777777777777778,
              "#fb9f3a"
             ],
             [
              0.8888888888888888,
              "#fdca26"
             ],
             [
              1,
              "#f0f921"
             ]
            ],
            "type": "contour"
           }
          ],
          "contourcarpet": [
           {
            "colorbar": {
             "outlinewidth": 0,
             "ticks": ""
            },
            "type": "contourcarpet"
           }
          ],
          "heatmap": [
           {
            "colorbar": {
             "outlinewidth": 0,
             "ticks": ""
            },
            "colorscale": [
             [
              0,
              "#0d0887"
             ],
             [
              0.1111111111111111,
              "#46039f"
             ],
             [
              0.2222222222222222,
              "#7201a8"
             ],
             [
              0.3333333333333333,
              "#9c179e"
             ],
             [
              0.4444444444444444,
              "#bd3786"
             ],
             [
              0.5555555555555556,
              "#d8576b"
             ],
             [
              0.6666666666666666,
              "#ed7953"
             ],
             [
              0.7777777777777778,
              "#fb9f3a"
             ],
             [
              0.8888888888888888,
              "#fdca26"
             ],
             [
              1,
              "#f0f921"
             ]
            ],
            "type": "heatmap"
           }
          ],
          "histogram": [
           {
            "marker": {
             "pattern": {
              "fillmode": "overlay",
              "size": 10,
              "solidity": 0.2
             }
            },
            "type": "histogram"
           }
          ],
          "histogram2d": [
           {
            "colorbar": {
             "outlinewidth": 0,
             "ticks": ""
            },
            "colorscale": [
             [
              0,
              "#0d0887"
             ],
             [
              0.1111111111111111,
              "#46039f"
             ],
             [
              0.2222222222222222,
              "#7201a8"
             ],
             [
              0.3333333333333333,
              "#9c179e"
             ],
             [
              0.4444444444444444,
              "#bd3786"
             ],
             [
              0.5555555555555556,
              "#d8576b"
             ],
             [
              0.6666666666666666,
              "#ed7953"
             ],
             [
              0.7777777777777778,
              "#fb9f3a"
             ],
             [
              0.8888888888888888,
              "#fdca26"
             ],
             [
              1,
              "#f0f921"
             ]
            ],
            "type": "histogram2d"
           }
          ],
          "histogram2dcontour": [
           {
            "colorbar": {
             "outlinewidth": 0,
             "ticks": ""
            },
            "colorscale": [
             [
              0,
              "#0d0887"
             ],
             [
              0.1111111111111111,
              "#46039f"
             ],
             [
              0.2222222222222222,
              "#7201a8"
             ],
             [
              0.3333333333333333,
              "#9c179e"
             ],
             [
              0.4444444444444444,
              "#bd3786"
             ],
             [
              0.5555555555555556,
              "#d8576b"
             ],
             [
              0.6666666666666666,
              "#ed7953"
             ],
             [
              0.7777777777777778,
              "#fb9f3a"
             ],
             [
              0.8888888888888888,
              "#fdca26"
             ],
             [
              1,
              "#f0f921"
             ]
            ],
            "type": "histogram2dcontour"
           }
          ],
          "mesh3d": [
           {
            "colorbar": {
             "outlinewidth": 0,
             "ticks": ""
            },
            "type": "mesh3d"
           }
          ],
          "parcoords": [
           {
            "line": {
             "colorbar": {
              "outlinewidth": 0,
              "ticks": ""
             }
            },
            "type": "parcoords"
           }
          ],
          "pie": [
           {
            "automargin": true,
            "type": "pie"
           }
          ],
          "scatter": [
           {
            "fillpattern": {
             "fillmode": "overlay",
             "size": 10,
             "solidity": 0.2
            },
            "type": "scatter"
           }
          ],
          "scatter3d": [
           {
            "line": {
             "colorbar": {
              "outlinewidth": 0,
              "ticks": ""
             }
            },
            "marker": {
             "colorbar": {
              "outlinewidth": 0,
              "ticks": ""
             }
            },
            "type": "scatter3d"
           }
          ],
          "scattercarpet": [
           {
            "marker": {
             "colorbar": {
              "outlinewidth": 0,
              "ticks": ""
             }
            },
            "type": "scattercarpet"
           }
          ],
          "scattergeo": [
           {
            "marker": {
             "colorbar": {
              "outlinewidth": 0,
              "ticks": ""
             }
            },
            "type": "scattergeo"
           }
          ],
          "scattergl": [
           {
            "marker": {
             "colorbar": {
              "outlinewidth": 0,
              "ticks": ""
             }
            },
            "type": "scattergl"
           }
          ],
          "scattermap": [
           {
            "marker": {
             "colorbar": {
              "outlinewidth": 0,
              "ticks": ""
             }
            },
            "type": "scattermap"
           }
          ],
          "scattermapbox": [
           {
            "marker": {
             "colorbar": {
              "outlinewidth": 0,
              "ticks": ""
             }
            },
            "type": "scattermapbox"
           }
          ],
          "scatterpolar": [
           {
            "marker": {
             "colorbar": {
              "outlinewidth": 0,
              "ticks": ""
             }
            },
            "type": "scatterpolar"
           }
          ],
          "scatterpolargl": [
           {
            "marker": {
             "colorbar": {
              "outlinewidth": 0,
              "ticks": ""
             }
            },
            "type": "scatterpolargl"
           }
          ],
          "scatterternary": [
           {
            "marker": {
             "colorbar": {
              "outlinewidth": 0,
              "ticks": ""
             }
            },
            "type": "scatterternary"
           }
          ],
          "surface": [
           {
            "colorbar": {
             "outlinewidth": 0,
             "ticks": ""
            },
            "colorscale": [
             [
              0,
              "#0d0887"
             ],
             [
              0.1111111111111111,
              "#46039f"
             ],
             [
              0.2222222222222222,
              "#7201a8"
             ],
             [
              0.3333333333333333,
              "#9c179e"
             ],
             [
              0.4444444444444444,
              "#bd3786"
             ],
             [
              0.5555555555555556,
              "#d8576b"
             ],
             [
              0.6666666666666666,
              "#ed7953"
             ],
             [
              0.7777777777777778,
              "#fb9f3a"
             ],
             [
              0.8888888888888888,
              "#fdca26"
             ],
             [
              1,
              "#f0f921"
             ]
            ],
            "type": "surface"
           }
          ],
          "table": [
           {
            "cells": {
             "fill": {
              "color": "#EBF0F8"
             },
             "line": {
              "color": "white"
             }
            },
            "header": {
             "fill": {
              "color": "#C8D4E3"
             },
             "line": {
              "color": "white"
             }
            },
            "type": "table"
           }
          ]
         },
         "layout": {
          "annotationdefaults": {
           "arrowcolor": "#2a3f5f",
           "arrowhead": 0,
           "arrowwidth": 1
          },
          "autotypenumbers": "strict",
          "coloraxis": {
           "colorbar": {
            "outlinewidth": 0,
            "ticks": ""
           }
          },
          "colorscale": {
           "diverging": [
            [
             0,
             "#8e0152"
            ],
            [
             0.1,
             "#c51b7d"
            ],
            [
             0.2,
             "#de77ae"
            ],
            [
             0.3,
             "#f1b6da"
            ],
            [
             0.4,
             "#fde0ef"
            ],
            [
             0.5,
             "#f7f7f7"
            ],
            [
             0.6,
             "#e6f5d0"
            ],
            [
             0.7,
             "#b8e186"
            ],
            [
             0.8,
             "#7fbc41"
            ],
            [
             0.9,
             "#4d9221"
            ],
            [
             1,
             "#276419"
            ]
           ],
           "sequential": [
            [
             0,
             "#0d0887"
            ],
            [
             0.1111111111111111,
             "#46039f"
            ],
            [
             0.2222222222222222,
             "#7201a8"
            ],
            [
             0.3333333333333333,
             "#9c179e"
            ],
            [
             0.4444444444444444,
             "#bd3786"
            ],
            [
             0.5555555555555556,
             "#d8576b"
            ],
            [
             0.6666666666666666,
             "#ed7953"
            ],
            [
             0.7777777777777778,
             "#fb9f3a"
            ],
            [
             0.8888888888888888,
             "#fdca26"
            ],
            [
             1,
             "#f0f921"
            ]
           ],
           "sequentialminus": [
            [
             0,
             "#0d0887"
            ],
            [
             0.1111111111111111,
             "#46039f"
            ],
            [
             0.2222222222222222,
             "#7201a8"
            ],
            [
             0.3333333333333333,
             "#9c179e"
            ],
            [
             0.4444444444444444,
             "#bd3786"
            ],
            [
             0.5555555555555556,
             "#d8576b"
            ],
            [
             0.6666666666666666,
             "#ed7953"
            ],
            [
             0.7777777777777778,
             "#fb9f3a"
            ],
            [
             0.8888888888888888,
             "#fdca26"
            ],
            [
             1,
             "#f0f921"
            ]
           ]
          },
          "colorway": [
           "#636efa",
           "#EF553B",
           "#00cc96",
           "#ab63fa",
           "#FFA15A",
           "#19d3f3",
           "#FF6692",
           "#B6E880",
           "#FF97FF",
           "#FECB52"
          ],
          "font": {
           "color": "#2a3f5f"
          },
          "geo": {
           "bgcolor": "white",
           "lakecolor": "white",
           "landcolor": "#E5ECF6",
           "showlakes": true,
           "showland": true,
           "subunitcolor": "white"
          },
          "hoverlabel": {
           "align": "left"
          },
          "hovermode": "closest",
          "mapbox": {
           "style": "light"
          },
          "paper_bgcolor": "white",
          "plot_bgcolor": "#E5ECF6",
          "polar": {
           "angularaxis": {
            "gridcolor": "white",
            "linecolor": "white",
            "ticks": ""
           },
           "bgcolor": "#E5ECF6",
           "radialaxis": {
            "gridcolor": "white",
            "linecolor": "white",
            "ticks": ""
           }
          },
          "scene": {
           "xaxis": {
            "backgroundcolor": "#E5ECF6",
            "gridcolor": "white",
            "gridwidth": 2,
            "linecolor": "white",
            "showbackground": true,
            "ticks": "",
            "zerolinecolor": "white"
           },
           "yaxis": {
            "backgroundcolor": "#E5ECF6",
            "gridcolor": "white",
            "gridwidth": 2,
            "linecolor": "white",
            "showbackground": true,
            "ticks": "",
            "zerolinecolor": "white"
           },
           "zaxis": {
            "backgroundcolor": "#E5ECF6",
            "gridcolor": "white",
            "gridwidth": 2,
            "linecolor": "white",
            "showbackground": true,
            "ticks": "",
            "zerolinecolor": "white"
           }
          },
          "shapedefaults": {
           "line": {
            "color": "#2a3f5f"
           }
          },
          "ternary": {
           "aaxis": {
            "gridcolor": "white",
            "linecolor": "white",
            "ticks": ""
           },
           "baxis": {
            "gridcolor": "white",
            "linecolor": "white",
            "ticks": ""
           },
           "bgcolor": "#E5ECF6",
           "caxis": {
            "gridcolor": "white",
            "linecolor": "white",
            "ticks": ""
           }
          },
          "title": {
           "x": 0.05
          },
          "xaxis": {
           "automargin": true,
           "gridcolor": "white",
           "linecolor": "white",
           "ticks": "",
           "title": {
            "standoff": 15
           },
           "zerolinecolor": "white",
           "zerolinewidth": 2
          },
          "yaxis": {
           "automargin": true,
           "gridcolor": "white",
           "linecolor": "white",
           "ticks": "",
           "title": {
            "standoff": 15
           },
           "zerolinecolor": "white",
           "zerolinewidth": 2
          }
         }
        },
        "title": {
         "text": "Unprocessed data"
        }
       }
      }
     },
     "metadata": {},
     "output_type": "display_data"
    }
   ],
   "source": [
    "from sklearn.linear_model import LinearRegression\n",
    "X = data1[['x1', 'x2']]\n",
    "Y = data1['y']\n",
    "\n",
    "model = LinearRegression()\n",
    "model.fit(X, Y)\n",
    "\n",
    "x_range = np.linspace(X['x1'].min(), X['x1'].max(), 30)\n",
    "y_range = np.linspace(X['x2'].min(), X['x2'].max(), 30)\n",
    "x_surf, y_surf = np.meshgrid(x_range, y_range)\n",
    "\n",
    "z_surf = model.intercept_ + model.coef_[0]*x_surf + model.coef_[1]*y_surf\n",
    "\n",
    "fig = plotly.Figure()\n",
    "\n",
    "fig.add_trace(plotly.Scatter3d(\n",
    "    x=X['x1'],\n",
    "    y=X['x2'],\n",
    "    z=Y,\n",
    "    mode='markers',\n",
    "    marker=dict(size=5, opacity=0.8)\n",
    "))\n",
    "\n",
    "fig.add_trace(plotly.Surface(\n",
    "    x=x_surf,\n",
    "    y=y_surf,\n",
    "    z=z_surf,\n",
    "    opacity=0.6\n",
    "))\n",
    "\n",
    "fig.update_layout(\n",
    "    title='Unprocessed data',\n",
    "    scene=dict(\n",
    "        xaxis_title='x1',\n",
    "        yaxis_title='x2',\n",
    "        zaxis_title='y'\n",
    "    )\n",
    ")\n",
    "\n",
    "fig.show()"
   ]
  },
  {
   "cell_type": "code",
   "execution_count": 4,
   "id": "a77f744f-a55c-4184-b77a-559708f1bb52",
   "metadata": {},
   "outputs": [
    {
     "name": "stdout",
     "output_type": "stream",
     "text": [
      "Removed points:\n",
      "            x1          x2      y\n",
      "50 -501.847589  254.564165  805.0\n"
     ]
    },
    {
     "data": {
      "application/vnd.plotly.v1+json": {
       "config": {
        "plotlyServerURL": "https://plot.ly"
       },
       "data": [
        {
         "marker": {
          "size": 5
         },
         "mode": "markers",
         "type": "scatter3d",
         "x": {
          "bdata": "m7SAOxZEI8CdHNNNQXROQGUV/FdS0WjACQ/k6sFPesArHcWcFCwUQDXwH+IJzIDA5P5dfitnZkB7yCl0/aNjwF+J9mf1S0LAVnG6l8GZ+L89sl6xK04bQPaTc1oe50XAR4RvL6N32r+DRrjiZYRgwDoumRnszA5ABI9O4TFFGED3GmlGIhZ5wEFUbXltx35ALSY2H1cxQsBvdL5t4IA+QF5DV78ldnDArUChXGLGfsD5VATu7x1RwIuX2a0GSEDAvi9wcTvR3z+KTXUSy5F/QC1VL+DR4XlAQ9E0D/1OEkAO773owD51wPjtd2rmrHzAkzgKlD3rGsDUb/RriqllQC+MsoYkpEnAuM11lvA6bMAPCoztfHp3wNOFeQt7m1hAvE4TSzRugsAu3jQivZZFQOH0y7MUWFhATKHafRqpK8Ahak+H3TBtQCodi/GKljfApAmIB5x4QMCVjXux/4VNQF2yfQo4s3FAdcEJGm3IcMAH1i/g/qBVQN/Esao1Q1hApqkSI1NXrT8KtnR5QUuAwPhzhrmPXX/APSnVNqw1P8CfDa/a+6N0QO1n679SFgzAJ/tjMVxTWMBhszO3CKtGwCUE7QZYMHhADgi+s4cpJ0B/xOkDTRNhQLSospyCcXJAbUY48wy4YUCHl5ZH7Wc9wDB8CqH/jljAIXg6X2WcY0BfibRLY0WCwORPEhra+wXAMmAkDz+/cMAJtjrOR316QLl5mRcWkqA/btqt4fm9KMAHWFC92iZ+QG5H/oHuohq/pL/67D5LSMD5CnfT0qkZQAISLJJPgnvA8e0Cyju/dEAEdIDc1U1rwBqpMQAAdoFA2UElrmPhOECcBrlJFAZWwCuuv1+rjCbARINWWFc6J0AvWGB+zfd0wC1NALScFDzAt58IuZ2GfcDi6VOWOk87QERJ7er6qoE/FsJqLGHZLUALob3ZavpAQNn7Ac1fZXlAuOoZRmqVM8CmSDrag1p3QN4wPLzIS1HAQBvzGfR2Y0ApL8dlu0bAPwPtLzf/iXTAfB1A2MySc0CdaqmTnlg0wNkDMfk0I0xAuTNVKMmucUA=",
          "dtype": "f8"
         },
         "y": {
          "bdata": "367RUZLEd0C9mPse1O5tQGo3dmDrMk9ATvlK/4andUCpIokcqrNxQKZPQE1sP3hAvxWBmOE7VUBLd7bLJ1dSQHPACeDhPGpAsR4QS3cfXUAB6CjuFeZLQPHJ9XxuUWJAfnWPSyChc0BznWdoM7ZpQLbUB7OFlDJAhVGc5WoNUUBLZ3EQ3rh3QANAFTe+NXRAnDzA7s+IQ0BpdAex8wFmQA2x8rJDwmhAQHH4i6a7dkCQ3LuCJJBwQGAaTOTeAGpA5fnjKEZ8UkAhnCae2WBzQOwKhSHlXnZAUG8lv/4Ld0ApL4VJKZlTQD3GiW06RGBALn2/A4kiW0ACyQlNcdZhQMzTd4aCImtAoMeDiA8OdEBnqpKOE6x4QP84Jxcf31NAC44eAfRidECwGxlYpTlyQLQIQR4snj1AZqHf734sR0Bfkk5NNypvQPmIdwRgbDlAvxmptVhCYEBzb3ZSvOBvQO0d4t1ZnGdAqlhnQsTUcUD+wfoeWRBsQNn4AmmVsGhA3JavaIZgZUAYwRCDCpRFQHIAu6IN0m9AewnbcLRtaUBpno6N4e1YQAQyQ/yG43JALvbqJb7KPkD1xv/TQx9QQK6kDW74M3RA5IvuB1nJdUCKF7CJMahSQLL1iKiU92pANzNd/PtmdkDZWMuVqAJGQBOQQM36WmVA1iTT/KyEdUD5/dXCkIlpQA6hKb/1NVZAXdLFZHnhYEAu7x5e/yhgQDKWI0NSk3FA6JCrw2dLeEBpBDR0oC1ZQL5pXRd8Fl5A4wSeYnKCLUB51JCfSiJpQKw9y3dZ3VtAirSFzsj0V0AU5wvO/nhoQKqwY22dNFhAC1Pnk10Kc0AHPWGqlTRyQBbb5r6DnW9AxVcafOrJakDHutmb7+F0QOGpsrXfplJALQ8M/22LbUCCOifuX4oaQOadXLZKplZA1Yc/1MdvUUBnSfxhNlZjQMfb54QSgUtAaCRCI9ixRkA9/OvL+O51QHX6atzlf3BAnbv6BJLCa0Be0XMsay9YQA5HPkwubnZApk3u2rKnb0DqOCPv4XVhQGDILHOBbXZAwGUlGDR/c0A=",
          "dtype": "f8"
         },
         "z": {
          "bdata": "pzFKZZTpd8D6czwsVUplwP5ilVaslG/ALRr4clvBh8Bx/LOTH8VwwEl215/1p4zA+eAxEzdGWUB3o03djrprwFPWqdEP723A1D9OuX5PW8BX2eubA+hDwFHqHht55WbAoOBBN1QYc8DIxWLlsZZ0wKrBLJvWoRfAN6BKcmUfSsDyMnm5dimIwBWIZOk/C2ZAR7zpVAEWUcDBsHjB8kthwL3502eDWHzAcDBpxkl+isAk4OcqM1N0wLGuwEZo+GzAMXSR559bUMCEK39CZpBpQM0W1q6F9U9APxDN+jwXdsAM1Fp/CJt5wLNOCUZdLoLAvmKyXcYVW8DnKqsjJopDQDAqyiFZSXDAOMj7ow3QgMAjMUENf8+HwA+M7ubK3jpAn8Rrh3RmjMCZioUIFT5uwH/Xyvj101JABB+DFSepScCitzZc/U8ewNANTdnpIEXApkfPBPVaY8BIVvrg53JnwL8IXE+bW1lA3oz92V0NgcA8P1rW/D1gwDMjMJQbZ1fAyCED9T1TZMB9PgylBWCBwAAAAAAAKIlA/QeiOLEybMAzD4kQ8aRtQIxLl/a0qnLAwnxgZBXlXcBphyJR5lNZwGWZE+50ElJAVo+HAGhSdMCrN3L28aJRQCVIOj2OH1ZAxNDJ1mP3acCsaN43nzFQwAnKp6ZIVnDASH+aIKtUZsCp3GU79m2IwPa4LZn89FTAGigZzr+3eMB1WW16F+pyQIAgBtvE7XDA4b8v5DeveMB5YDqMbWZ4QNYqLH60fVzA15ICyUPoS8DQuwxaIzJnwDkz0VJP/IDAgRAkSpZhbkARwJM33G55wAFR7ka4aX1A913w7fYHccAQ3okfpDJ3wErE55BsAnDAjhmP7x5raMDd+fLAt5uEwJXvncF0g1fAWUo72l32hcA1wQUTXtw8QPGrKBQY0FTAvS9X1Br8RsAyrwIA8GFcwAZphIZnc3ZAR9r42ek7TMD/KrgGU5Y/QPktfHUMZnTANKTlm0hZTcByY8RPrUVWwJlUZcZQQYXAQrPr3spsUUCKaGQlAPRiwOlrr2hHfXLAZ5X8/LUbNMA=",
          "dtype": "f8"
         }
        },
        {
         "opacity": 0.5,
         "type": "surface",
         "x": {
          "bdata": "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",
          "dtype": "f8",
          "shape": "30, 30"
         },
         "y": {
          "bdata": "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",
          "dtype": "f8",
          "shape": "30, 30"
         },
         "z": {
          "bdata": "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",
          "dtype": "f8",
          "shape": "30, 30"
         }
        }
       ],
       "layout": {
        "scene": {
         "xaxis": {
          "title": {
           "text": "X Axis"
          }
         },
         "yaxis": {
          "title": {
           "text": "Y Axis"
          }
         },
         "zaxis": {
          "title": {
           "text": "Z Axis"
          }
         }
        },
        "template": {
         "data": {
          "bar": [
           {
            "error_x": {
             "color": "#2a3f5f"
            },
            "error_y": {
             "color": "#2a3f5f"
            },
            "marker": {
             "line": {
              "color": "#E5ECF6",
              "width": 0.5
             },
             "pattern": {
              "fillmode": "overlay",
              "size": 10,
              "solidity": 0.2
             }
            },
            "type": "bar"
           }
          ],
          "barpolar": [
           {
            "marker": {
             "line": {
              "color": "#E5ECF6",
              "width": 0.5
             },
             "pattern": {
              "fillmode": "overlay",
              "size": 10,
              "solidity": 0.2
             }
            },
            "type": "barpolar"
           }
          ],
          "carpet": [
           {
            "aaxis": {
             "endlinecolor": "#2a3f5f",
             "gridcolor": "white",
             "linecolor": "white",
             "minorgridcolor": "white",
             "startlinecolor": "#2a3f5f"
            },
            "baxis": {
             "endlinecolor": "#2a3f5f",
             "gridcolor": "white",
             "linecolor": "white",
             "minorgridcolor": "white",
             "startlinecolor": "#2a3f5f"
            },
            "type": "carpet"
           }
          ],
          "choropleth": [
           {
            "colorbar": {
             "outlinewidth": 0,
             "ticks": ""
            },
            "type": "choropleth"
           }
          ],
          "contour": [
           {
            "colorbar": {
             "outlinewidth": 0,
             "ticks": ""
            },
            "colorscale": [
             [
              0,
              "#0d0887"
             ],
             [
              0.1111111111111111,
              "#46039f"
             ],
             [
              0.2222222222222222,
              "#7201a8"
             ],
             [
              0.3333333333333333,
              "#9c179e"
             ],
             [
              0.4444444444444444,
              "#bd3786"
             ],
             [
              0.5555555555555556,
              "#d8576b"
             ],
             [
              0.6666666666666666,
              "#ed7953"
             ],
             [
              0.7777777777777778,
              "#fb9f3a"
             ],
             [
              0.8888888888888888,
              "#fdca26"
             ],
             [
              1,
              "#f0f921"
             ]
            ],
            "type": "contour"
           }
          ],
          "contourcarpet": [
           {
            "colorbar": {
             "outlinewidth": 0,
             "ticks": ""
            },
            "type": "contourcarpet"
           }
          ],
          "heatmap": [
           {
            "colorbar": {
             "outlinewidth": 0,
             "ticks": ""
            },
            "colorscale": [
             [
              0,
              "#0d0887"
             ],
             [
              0.1111111111111111,
              "#46039f"
             ],
             [
              0.2222222222222222,
              "#7201a8"
             ],
             [
              0.3333333333333333,
              "#9c179e"
             ],
             [
              0.4444444444444444,
              "#bd3786"
             ],
             [
              0.5555555555555556,
              "#d8576b"
             ],
             [
              0.6666666666666666,
              "#ed7953"
             ],
             [
              0.7777777777777778,
              "#fb9f3a"
             ],
             [
              0.8888888888888888,
              "#fdca26"
             ],
             [
              1,
              "#f0f921"
             ]
            ],
            "type": "heatmap"
           }
          ],
          "histogram": [
           {
            "marker": {
             "pattern": {
              "fillmode": "overlay",
              "size": 10,
              "solidity": 0.2
             }
            },
            "type": "histogram"
           }
          ],
          "histogram2d": [
           {
            "colorbar": {
             "outlinewidth": 0,
             "ticks": ""
            },
            "colorscale": [
             [
              0,
              "#0d0887"
             ],
             [
              0.1111111111111111,
              "#46039f"
             ],
             [
              0.2222222222222222,
              "#7201a8"
             ],
             [
              0.3333333333333333,
              "#9c179e"
             ],
             [
              0.4444444444444444,
              "#bd3786"
             ],
             [
              0.5555555555555556,
              "#d8576b"
             ],
             [
              0.6666666666666666,
              "#ed7953"
             ],
             [
              0.7777777777777778,
              "#fb9f3a"
             ],
             [
              0.8888888888888888,
              "#fdca26"
             ],
             [
              1,
              "#f0f921"
             ]
            ],
            "type": "histogram2d"
           }
          ],
          "histogram2dcontour": [
           {
            "colorbar": {
             "outlinewidth": 0,
             "ticks": ""
            },
            "colorscale": [
             [
              0,
              "#0d0887"
             ],
             [
              0.1111111111111111,
              "#46039f"
             ],
             [
              0.2222222222222222,
              "#7201a8"
             ],
             [
              0.3333333333333333,
              "#9c179e"
             ],
             [
              0.4444444444444444,
              "#bd3786"
             ],
             [
              0.5555555555555556,
              "#d8576b"
             ],
             [
              0.6666666666666666,
              "#ed7953"
             ],
             [
              0.7777777777777778,
              "#fb9f3a"
             ],
             [
              0.8888888888888888,
              "#fdca26"
             ],
             [
              1,
              "#f0f921"
             ]
            ],
            "type": "histogram2dcontour"
           }
          ],
          "mesh3d": [
           {
            "colorbar": {
             "outlinewidth": 0,
             "ticks": ""
            },
            "type": "mesh3d"
           }
          ],
          "parcoords": [
           {
            "line": {
             "colorbar": {
              "outlinewidth": 0,
              "ticks": ""
             }
            },
            "type": "parcoords"
           }
          ],
          "pie": [
           {
            "automargin": true,
            "type": "pie"
           }
          ],
          "scatter": [
           {
            "fillpattern": {
             "fillmode": "overlay",
             "size": 10,
             "solidity": 0.2
            },
            "type": "scatter"
           }
          ],
          "scatter3d": [
           {
            "line": {
             "colorbar": {
              "outlinewidth": 0,
              "ticks": ""
             }
            },
            "marker": {
             "colorbar": {
              "outlinewidth": 0,
              "ticks": ""
             }
            },
            "type": "scatter3d"
           }
          ],
          "scattercarpet": [
           {
            "marker": {
             "colorbar": {
              "outlinewidth": 0,
              "ticks": ""
             }
            },
            "type": "scattercarpet"
           }
          ],
          "scattergeo": [
           {
            "marker": {
             "colorbar": {
              "outlinewidth": 0,
              "ticks": ""
             }
            },
            "type": "scattergeo"
           }
          ],
          "scattergl": [
           {
            "marker": {
             "colorbar": {
              "outlinewidth": 0,
              "ticks": ""
             }
            },
            "type": "scattergl"
           }
          ],
          "scattermap": [
           {
            "marker": {
             "colorbar": {
              "outlinewidth": 0,
              "ticks": ""
             }
            },
            "type": "scattermap"
           }
          ],
          "scattermapbox": [
           {
            "marker": {
             "colorbar": {
              "outlinewidth": 0,
              "ticks": ""
             }
            },
            "type": "scattermapbox"
           }
          ],
          "scatterpolar": [
           {
            "marker": {
             "colorbar": {
              "outlinewidth": 0,
              "ticks": ""
             }
            },
            "type": "scatterpolar"
           }
          ],
          "scatterpolargl": [
           {
            "marker": {
             "colorbar": {
              "outlinewidth": 0,
              "ticks": ""
             }
            },
            "type": "scatterpolargl"
           }
          ],
          "scatterternary": [
           {
            "marker": {
             "colorbar": {
              "outlinewidth": 0,
              "ticks": ""
             }
            },
            "type": "scatterternary"
           }
          ],
          "surface": [
           {
            "colorbar": {
             "outlinewidth": 0,
             "ticks": ""
            },
            "colorscale": [
             [
              0,
              "#0d0887"
             ],
             [
              0.1111111111111111,
              "#46039f"
             ],
             [
              0.2222222222222222,
              "#7201a8"
             ],
             [
              0.3333333333333333,
              "#9c179e"
             ],
             [
              0.4444444444444444,
              "#bd3786"
             ],
             [
              0.5555555555555556,
              "#d8576b"
             ],
             [
              0.6666666666666666,
              "#ed7953"
             ],
             [
              0.7777777777777778,
              "#fb9f3a"
             ],
             [
              0.8888888888888888,
              "#fdca26"
             ],
             [
              1,
              "#f0f921"
             ]
            ],
            "type": "surface"
           }
          ],
          "table": [
           {
            "cells": {
             "fill": {
              "color": "#EBF0F8"
             },
             "line": {
              "color": "white"
             }
            },
            "header": {
             "fill": {
              "color": "#C8D4E3"
             },
             "line": {
              "color": "white"
             }
            },
            "type": "table"
           }
          ]
         },
         "layout": {
          "annotationdefaults": {
           "arrowcolor": "#2a3f5f",
           "arrowhead": 0,
           "arrowwidth": 1
          },
          "autotypenumbers": "strict",
          "coloraxis": {
           "colorbar": {
            "outlinewidth": 0,
            "ticks": ""
           }
          },
          "colorscale": {
           "diverging": [
            [
             0,
             "#8e0152"
            ],
            [
             0.1,
             "#c51b7d"
            ],
            [
             0.2,
             "#de77ae"
            ],
            [
             0.3,
             "#f1b6da"
            ],
            [
             0.4,
             "#fde0ef"
            ],
            [
             0.5,
             "#f7f7f7"
            ],
            [
             0.6,
             "#e6f5d0"
            ],
            [
             0.7,
             "#b8e186"
            ],
            [
             0.8,
             "#7fbc41"
            ],
            [
             0.9,
             "#4d9221"
            ],
            [
             1,
             "#276419"
            ]
           ],
           "sequential": [
            [
             0,
             "#0d0887"
            ],
            [
             0.1111111111111111,
             "#46039f"
            ],
            [
             0.2222222222222222,
             "#7201a8"
            ],
            [
             0.3333333333333333,
             "#9c179e"
            ],
            [
             0.4444444444444444,
             "#bd3786"
            ],
            [
             0.5555555555555556,
             "#d8576b"
            ],
            [
             0.6666666666666666,
             "#ed7953"
            ],
            [
             0.7777777777777778,
             "#fb9f3a"
            ],
            [
             0.8888888888888888,
             "#fdca26"
            ],
            [
             1,
             "#f0f921"
            ]
           ],
           "sequentialminus": [
            [
             0,
             "#0d0887"
            ],
            [
             0.1111111111111111,
             "#46039f"
            ],
            [
             0.2222222222222222,
             "#7201a8"
            ],
            [
             0.3333333333333333,
             "#9c179e"
            ],
            [
             0.4444444444444444,
             "#bd3786"
            ],
            [
             0.5555555555555556,
             "#d8576b"
            ],
            [
             0.6666666666666666,
             "#ed7953"
            ],
            [
             0.7777777777777778,
             "#fb9f3a"
            ],
            [
             0.8888888888888888,
             "#fdca26"
            ],
            [
             1,
             "#f0f921"
            ]
           ]
          },
          "colorway": [
           "#636efa",
           "#EF553B",
           "#00cc96",
           "#ab63fa",
           "#FFA15A",
           "#19d3f3",
           "#FF6692",
           "#B6E880",
           "#FF97FF",
           "#FECB52"
          ],
          "font": {
           "color": "#2a3f5f"
          },
          "geo": {
           "bgcolor": "white",
           "lakecolor": "white",
           "landcolor": "#E5ECF6",
           "showlakes": true,
           "showland": true,
           "subunitcolor": "white"
          },
          "hoverlabel": {
           "align": "left"
          },
          "hovermode": "closest",
          "mapbox": {
           "style": "light"
          },
          "paper_bgcolor": "white",
          "plot_bgcolor": "#E5ECF6",
          "polar": {
           "angularaxis": {
            "gridcolor": "white",
            "linecolor": "white",
            "ticks": ""
           },
           "bgcolor": "#E5ECF6",
           "radialaxis": {
            "gridcolor": "white",
            "linecolor": "white",
            "ticks": ""
           }
          },
          "scene": {
           "xaxis": {
            "backgroundcolor": "#E5ECF6",
            "gridcolor": "white",
            "gridwidth": 2,
            "linecolor": "white",
            "showbackground": true,
            "ticks": "",
            "zerolinecolor": "white"
           },
           "yaxis": {
            "backgroundcolor": "#E5ECF6",
            "gridcolor": "white",
            "gridwidth": 2,
            "linecolor": "white",
            "showbackground": true,
            "ticks": "",
            "zerolinecolor": "white"
           },
           "zaxis": {
            "backgroundcolor": "#E5ECF6",
            "gridcolor": "white",
            "gridwidth": 2,
            "linecolor": "white",
            "showbackground": true,
            "ticks": "",
            "zerolinecolor": "white"
           }
          },
          "shapedefaults": {
           "line": {
            "color": "#2a3f5f"
           }
          },
          "ternary": {
           "aaxis": {
            "gridcolor": "white",
            "linecolor": "white",
            "ticks": ""
           },
           "baxis": {
            "gridcolor": "white",
            "linecolor": "white",
            "ticks": ""
           },
           "bgcolor": "#E5ECF6",
           "caxis": {
            "gridcolor": "white",
            "linecolor": "white",
            "ticks": ""
           }
          },
          "title": {
           "x": 0.05
          },
          "xaxis": {
           "automargin": true,
           "gridcolor": "white",
           "linecolor": "white",
           "ticks": "",
           "title": {
            "standoff": 15
           },
           "zerolinecolor": "white",
           "zerolinewidth": 2
          },
          "yaxis": {
           "automargin": true,
           "gridcolor": "white",
           "linecolor": "white",
           "ticks": "",
           "title": {
            "standoff": 15
           },
           "zerolinecolor": "white",
           "zerolinewidth": 2
          }
         }
        },
        "title": {
         "text": "Processed data"
        }
       }
      }
     },
     "metadata": {},
     "output_type": "display_data"
    }
   ],
   "source": [
    "X = data1[['x1','x2']]\n",
    "Y = data1['y']\n",
    "X_c, y_c = preprocess_data(X, Y)\n",
    "\n",
    "model = LinearRegression()\n",
    "model.fit(X_c, y_c)\n",
    "y_pred = model.predict(X)\n",
    "\n",
    "x_range = np.linspace(X_c['x1'].min(), X_c['x1'].max(), 30)\n",
    "y_range = np.linspace(X_c['x2'].min(), X_c['x2'].max(), 30)\n",
    "x_surf, y_surf = np.meshgrid(x_range, y_range)\n",
    "z_surf = model.intercept_ + model.coef_[0]*x_surf + model.coef_[1]*y_surf\n",
    "\n",
    "# Plane on preprocessed data\n",
    "fig = plotly.Figure(data=[plotly.Scatter3d(\n",
    "    x=x, y=y, z=z,\n",
    "    mode='markers',\n",
    "    marker=dict(\n",
    "        size=5\n",
    "    )\n",
    ")])\n",
    "\n",
    "fig.update_layout(\n",
    "    title=\"Processed data\",\n",
    "    scene=dict(\n",
    "        xaxis_title='X Axis',\n",
    "        yaxis_title='Y Axis',\n",
    "        zaxis_title='Z Axis'\n",
    "    )\n",
    ")\n",
    "\n",
    "# Regression plane\n",
    "fig.add_trace(plotly.Surface(\n",
    "    x=x_surf,\n",
    "    y=y_surf,\n",
    "    z=z_surf,\n",
    "    opacity=0.5\n",
    "))"
   ]
  },
  {
   "cell_type": "markdown",
   "id": "861312a5-8380-4738-b817-b77734831a13",
   "metadata": {},
   "source": [
    "# Zadanie 2\n",
    "## ppkt.1\n",
    "chcemy miec jak najwiecej danych na uczenie a z drugiej strony jesli model mialby dzialac zle to nie powinien potrzebowac duzo testow aby wyszlo ze cos jest nie tak.\n",
    "Proponuje podzial 70/30 (dane/test).\n",
    "Gdy chcemy wytrenowac kilka modeli to powinnismy uzywac tego samego podzialu danych aby nauka byla 'fair'."
   ]
  },
  {
   "cell_type": "code",
   "execution_count": 5,
   "id": "640814f7-d482-4d38-b9b8-feeb91952fcb",
   "metadata": {},
   "outputs": [
    {
     "name": "stdout",
     "output_type": "stream",
     "text": [
      "Removed points:\n",
      "           x1         x2          y\n",
      "64 -521.40697  43.156571  43.156571\n"
     ]
    }
   ],
   "source": [
    "from sklearn.model_selection import train_test_split\n",
    "\n",
    "X_train, X_test, y_train, y_test = train_test_split(X, y, test_size=0.3)\n",
    "X_train_prep, y_train_prep = preprocess_data(X_train, y_train)\n",
    "\n",
    "# X_test_prep, y_test_prep = preprocess_data(X_test, y_test)"
   ]
  },
  {
   "cell_type": "markdown",
   "id": "324b4cfb-86be-4d88-8f42-94ff64e58495",
   "metadata": {},
   "source": [
    "## ppkt. 2\n",
    "Jako model baselinowy mozemy po prostu zwracac srednia wartosc y 5 najblizszych sasiadow w danych treningowych (jak w preprocessingu)\n",
    "\n",
    "## ppkt. 3 / 4"
   ]
  },
  {
   "cell_type": "code",
   "execution_count": 6,
   "id": "cdc51f96-5186-42b0-b00d-36e0ace3e675",
   "metadata": {},
   "outputs": [
    {
     "name": "stdout",
     "output_type": "stream",
     "text": [
      "                 baseline  linear regression\n",
      "Raw           1264.546854       1.019945e-27\n",
      "Preprocessed  1264.195602       8.550200e-28\n"
     ]
    }
   ],
   "source": [
    "from sklearn.metrics import mean_squared_error\n",
    "\n",
    "baseline_raw = KNeighborsRegressor(5)\n",
    "baseline_raw.fit(X_train, y_train)\n",
    "br_predict = baseline_raw.predict(X_test)\n",
    "# print(f\"MSE for baseline model on raw data is: {mean_squared_error(y_test, br_predict)}\")\n",
    "\n",
    "baseline_prep = KNeighborsRegressor(5)\n",
    "baseline_prep.fit(X_train_prep, y_train_prep)\n",
    "bp_predict = baseline_prep.predict(X_test)\n",
    "# print(f\"MSE for baseline model on preprocessed data is: {mean_squared_error(y_test, bp_predict)}\")\n",
    "\n",
    "lr_raw = LinearRegression()\n",
    "lr_raw.fit(X_train, y_train)\n",
    "lrr_predict = lr_raw.predict(X_test)\n",
    "# print(f\"MSE for linear regression model on raw data is: {mean_squared_error(y_test, lrr_predict)}\")\n",
    "\n",
    "lr_prep = LinearRegression()\n",
    "lr_prep.fit(X_train_prep, y_train_prep)\n",
    "lrp_predict = lr_prep.predict(X_test)\n",
    "# print(f\"MSE for linear regression model on preprocessed data is: {mean_squared_error(y_test, lrp_predict)}\")\n",
    "\n",
    "results = {\n",
    "    \"Model\": [\"KNN Baseline\", \"KNN Baseline\", \"Linear Regression\", \"Linear Regression\"],\n",
    "    \"Data\": [\"Raw\", \"Preprocessed\", \"Raw\", \"Preprocessed\"],\n",
    "    \"MSE\": [\n",
    "        mean_squared_error(y_test, baseline_raw.predict(X_test)),\n",
    "        mean_squared_error(y_test, baseline_prep.predict(X_test)),\n",
    "        mean_squared_error(y_test, lr_raw.predict(X_test)),\n",
    "        mean_squared_error(y_test, lr_prep.predict(X_test))\n",
    "    ]\n",
    "}\n",
    "\n",
    "mse_table = pd.DataFrame({\n",
    "    'baseline': [mean_squared_error(y_test, baseline_raw.predict(X_test)),\n",
    "                 mean_squared_error(y_test, baseline_prep.predict(X_test))],\n",
    "    'linear regression': [mean_squared_error(y_test, lr_raw.predict(X_test)),\n",
    "                          mean_squared_error(y_test, lr_prep.predict(X_test))]\n",
    "}, index=['Raw', 'Preprocessed'])\n",
    "\n",
    "print(mse_table)"
   ]
  },
  {
   "cell_type": "markdown",
   "id": "ef3e5b3c-0db6-4803-95b0-29ac6da9b4a2",
   "metadata": {},
   "source": [
    "## ppkt. 5  (na pracowni)"
   ]
  },
  {
   "cell_type": "markdown",
   "id": "e6b77171-d8dc-469b-88c0-fd630850a18f",
   "metadata": {},
   "source": [
    "# Zadanie 1\n",
    "## ppkt. 1\n",
    "Preprocessing zrobimy taki sam jak poprzednio uzywajac KNN."
   ]
  },
  {
   "cell_type": "code",
   "execution_count": 7,
   "id": "580b0c67-6093-4763-9f13-9b9c40949bd0",
   "metadata": {},
   "outputs": [
    {
     "name": "stdout",
     "output_type": "stream",
     "text": [
      "Removed points:\n",
      "        TV  Radio  Newspaper     y\n",
      "10    66.1    5.8       24.2  12.6\n",
      "36   266.9   43.8        5.0  25.4\n",
      "55   198.9   49.4       60.0  23.7\n",
      "113  209.6   20.6       10.7  20.9\n",
      "128  220.3   49.0        3.2  24.7\n",
      "130    0.7   39.6        8.7   1.6\n",
      "137  273.7   28.9       59.7  20.8\n",
      "175  276.9   48.9       41.8  27.0\n",
      "197  177.0    9.3        6.4  14.8\n"
     ]
    }
   ],
   "source": [
    "data = pd.read_csv(\"./advertising.csv\")\n",
    "\n",
    "# print(data.head())\n",
    "\n",
    "# fig = plotly.Figure(data=[plotly.Scatter3d(\n",
    "#     x=data['TV'], y=data['Radio'], z=data['Newspaper'],\n",
    "#     mode='markers',\n",
    "#     marker=dict(\n",
    "#         size=data['Sales']\n",
    "#     )\n",
    "# )])\n",
    "\n",
    "# fig.update_layout(\n",
    "#     scene=dict(\n",
    "#         xaxis_title='TV',\n",
    "#         yaxis_title='Radio',\n",
    "#         zaxis_title='Newspaper'\n",
    "#     )\n",
    "# )\n",
    "\n",
    "# fig.show()\n",
    "\n",
    "# print(len(data['TV']))\n",
    "\n",
    "# arbitralny threshold ktory nie wywala zbyt wielu punktów\n",
    "X_prep, y_prep = preprocess_data(data[['TV', 'Radio', 'Newspaper']], data['Sales'], threshold=2)"
   ]
  },
  {
   "cell_type": "markdown",
   "id": "3a86fd1d-de9d-4fc3-9d87-11d590408da0",
   "metadata": {},
   "source": [
    "## ppkt. 2"
   ]
  },
  {
   "cell_type": "code",
   "execution_count": 8,
   "id": "616b9a3f-44b9-4c9e-a97d-1ee1cc710f03",
   "metadata": {},
   "outputs": [
    {
     "name": "stdout",
     "output_type": "stream",
     "text": [
      "2.182657512770059\n",
      "[ 0.05536368  0.10336829 -0.00538486]\n"
     ]
    }
   ],
   "source": [
    "# model uczony na danych bez skalowania\n",
    "lr_raw = LinearRegression()\n",
    "X, Y = data[['TV', 'Radio', 'Newspaper']], data['Sales']\n",
    "X_train, X_test, y_train, y_test = train_test_split(X, Y, test_size=0.3)\n",
    "lr_raw.fit(X_train, y_train)\n",
    "\n",
    "mse_raw = mean_squared_error(y_test, lr_raw.predict(X_test))\n",
    "print(mse_raw)\n",
    "print(lr_raw.coef_)"
   ]
  },
  {
   "cell_type": "code",
   "execution_count": 9,
   "id": "496b2acf-2ef7-47ac-8a1c-a105ad339cd5",
   "metadata": {},
   "outputs": [
    {
     "name": "stdout",
     "output_type": "stream",
     "text": [
      "2.1826575127700565\n",
      "[ 4.91335379  1.52860815 -0.1229258 ]\n"
     ]
    }
   ],
   "source": [
    "from sklearn.preprocessing import StandardScaler\n",
    "scaler = StandardScaler()\n",
    "\n",
    "# model uczony na znormalizowanych danych\n",
    "lr_scaled_data = LinearRegression()\n",
    "X_train_scaled = scaler.fit_transform(X_train)\n",
    "lr_scaled_data.fit(X_train_scaled, y_train)\n",
    "\n",
    "# print(X_train.head(10))\n",
    "# print(X_train_scaled)\n",
    "\n",
    "# dane do testu tez OCZYWISCIE skalujemy\n",
    "X_test_scaled = scaler.transform(X_test)\n",
    "\n",
    "mse_scaled = mean_squared_error(y_test, lr_scaled_data.predict(X_test_scaled))\n",
    "print(mse_scaled)\n",
    "print(lr_scaled_data.coef_)"
   ]
  },
  {
   "cell_type": "markdown",
   "id": "135aa523-f7d5-4942-9f0a-1f9d92de51c3",
   "metadata": {},
   "source": [
    "## ppkt. 3\n",
    "Obserwacje:\n",
    "* MSE minimalnie gorzej dla skalowanych danych. Blad nauczenia scalera? Błędy numeryczne?\n",
    "* inne wagi, tu liczby a tu ich odchylenia do pomnozenia\n",
    "\n",
    "## ppkt. 4 (na pracowani)"
   ]
  },
  {
   "cell_type": "markdown",
   "id": "12a56d4b-8289-4d65-8b91-efe1d1aab422",
   "metadata": {},
   "source": [
    "# Zadanie 4\n",
    "## ppkt. 1"
   ]
  },
  {
   "cell_type": "code",
   "execution_count": 10,
   "id": "0a28cd78-e211-4125-969f-3a9b32083d09",
   "metadata": {},
   "outputs": [
    {
     "name": "stdout",
     "output_type": "stream",
     "text": [
      "(100, 21)\n",
      "<class 'pandas.core.frame.DataFrame'>\n",
      "RangeIndex: 100 entries, 0 to 99\n",
      "Data columns (total 21 columns):\n",
      " #   Column  Non-Null Count  Dtype  \n",
      "---  ------  --------------  -----  \n",
      " 0   x0      100 non-null    float64\n",
      " 1   x1      100 non-null    float64\n",
      " 2   x2      100 non-null    float64\n",
      " 3   x3      100 non-null    float64\n",
      " 4   x4      100 non-null    float64\n",
      " 5   x5      100 non-null    float64\n",
      " 6   x6      100 non-null    float64\n",
      " 7   x7      100 non-null    float64\n",
      " 8   x8      100 non-null    float64\n",
      " 9   x9      100 non-null    float64\n",
      " 10  x10     100 non-null    float64\n",
      " 11  x11     100 non-null    float64\n",
      " 12  x12     100 non-null    float64\n",
      " 13  x13     100 non-null    float64\n",
      " 14  x14     100 non-null    float64\n",
      " 15  x15     100 non-null    float64\n",
      " 16  x16     100 non-null    float64\n",
      " 17  x17     100 non-null    float64\n",
      " 18  x18     100 non-null    float64\n",
      " 19  x19     100 non-null    float64\n",
      " 20  y       100 non-null    float64\n",
      "dtypes: float64(21)\n",
      "memory usage: 16.5 KB\n",
      "None\n",
      "               x0          x1          x2          x3          x4          x5  \\\n",
      "count  100.000000  100.000000  100.000000  100.000000  100.000000  100.000000   \n",
      "mean     0.066483   -0.090669    0.148793   -0.009252    0.066883    0.138678   \n",
      "std      1.029991    0.977525    0.933608    0.895542    0.927696    0.923655   \n",
      "min     -2.896255   -1.975467   -2.499406   -2.172670   -2.423879   -1.703382   \n",
      "25%     -0.534866   -0.857052   -0.356271   -0.640109   -0.496090   -0.552580   \n",
      "50%     -0.028445   -0.076344    0.178798   -0.016458    0.131194    0.145691   \n",
      "75%      0.757704    0.531959    0.721849    0.564199    0.493497    0.839220   \n",
      "max      2.290943    2.439752    2.526932    2.122156    3.137749    3.078881   \n",
      "\n",
      "               x6          x7          x8          x9  ...         x11  \\\n",
      "count  100.000000  100.000000  100.000000  100.000000  ...  100.000000   \n",
      "mean    -0.020263    0.135566    0.048246    0.021527  ...    0.116212   \n",
      "std      0.978568    0.946059    0.904497    1.078934  ...    1.024664   \n",
      "min     -1.748532   -1.760809   -2.471645   -3.241267  ...   -2.198806   \n",
      "25%     -0.766607   -0.655722   -0.585946   -0.650129  ...   -0.659615   \n",
      "50%     -0.020941    0.147305   -0.012252    0.044188  ...    0.214404   \n",
      "75%      0.622830    0.759989    0.654505    0.691722  ...    0.819755   \n",
      "max      2.270693    2.455300    2.133033    2.560085  ...    2.601683   \n",
      "\n",
      "              x12         x13         x14         x15         x16         x17  \\\n",
      "count  100.000000  100.000000  100.000000  100.000000  100.000000  100.000000   \n",
      "mean     0.181512   -0.021257    0.140830    0.164645   -0.083936    0.011392   \n",
      "std      1.045479    1.053048    0.921654    1.088579    1.063061    1.186164   \n",
      "min     -2.619745   -2.591042   -2.872262   -2.152891   -2.696887   -2.940389   \n",
      "25%     -0.531525   -0.676945   -0.435979   -0.608664   -0.945732   -0.684015   \n",
      "50%      0.046091   -0.094711    0.174999    0.024079   -0.004435    0.091795   \n",
      "75%      0.997346    0.648388    0.751524    0.860472    0.623706    0.821707   \n",
      "max      2.644343    3.193108    2.720169    3.852731    2.170943    2.558199   \n",
      "\n",
      "              x18         x19           y  \n",
      "count  100.000000  100.000000  100.000000  \n",
      "mean    -0.013781   -0.032560   10.844649  \n",
      "std      1.007022    0.885011   93.584362  \n",
      "min     -2.151815   -2.650970 -189.273935  \n",
      "25%     -0.775432   -0.554979  -59.519171  \n",
      "50%     -0.022596    0.040263    1.554482  \n",
      "75%      0.584392    0.591680   73.270708  \n",
      "max      2.403416    1.765454  221.426107  \n",
      "\n",
      "[8 rows x 21 columns]\n"
     ]
    }
   ],
   "source": [
    "data = pd.read_csv(\"./data4.csv\")\n",
    "\n",
    "# print(data.head())\n",
    "\n",
    "print(data.shape)\n",
    "print(data.info())\n",
    "print(data.describe())"
   ]
  },
  {
   "cell_type": "markdown",
   "id": "a1bce0cb-dc38-4fb1-90cc-0bbd3a696d53",
   "metadata": {},
   "source": [
    "## ppkt. 2"
   ]
  },
  {
   "cell_type": "code",
   "execution_count": 11,
   "id": "f56774a5-f1f7-4870-b12d-9f3136082741",
   "metadata": {},
   "outputs": [
    {
     "name": "stdout",
     "output_type": "stream",
     "text": [
      "107.69858809439603\n"
     ]
    }
   ],
   "source": [
    "# zwykly model LR\n",
    "X = data.drop(columns='y')\n",
    "y = data['y']\n",
    "\n",
    "X_train, X_test, y_train, y_test = train_test_split(X, y, test_size=0.3)\n",
    "\n",
    "lr = LinearRegression()\n",
    "lr.fit(X_train, y_train)\n",
    "mse_lr = mean_squared_error(y_test, lr.predict(X_test))\n",
    "print(mse_lr)\n"
   ]
  },
  {
   "cell_type": "code",
   "execution_count": 12,
   "id": "64e7d620-77f1-4717-8889-94ac4bd08f08",
   "metadata": {},
   "outputs": [
    {
     "name": "stdout",
     "output_type": "stream",
     "text": [
      "107.69858809439509\n"
     ]
    }
   ],
   "source": [
    "from sklearn.linear_model import Ridge\n",
    "\n",
    "# ODPOWEDNIA alpha -> trzeba sprobowac kilku\n",
    "alphas = np.arange(0, 100, 0.1)\n",
    "\n",
    "scaler = StandardScaler()\n",
    "\n",
    "b_alpha = 0\n",
    "smallest_mse = 9999999\n",
    "\n",
    "X_learn, X_check, y_learn, y_check = train_test_split(X_train, y_train, test_size=0.3)\n",
    "\n",
    "for a in alphas:\n",
    "    tmp_lr = Ridge(alpha=a)\n",
    "    tmp_lr.fit(X_learn, y_learn)\n",
    "    \n",
    "    cur_mse = mean_squared_error(y_check, tmp_lr.predict(X_check))\n",
    "    if cur_mse < smallest_mse:\n",
    "        smallest_mse = cur_mse\n",
    "        b_alpha = a\n",
    "\n",
    "lr_r = Ridge(b_alpha)\n",
    "lr_r.fit(X_train, y_train)\n",
    "\n",
    "mse = mean_squared_error(y_test, lr_r.predict(X_test))\n",
    "print(mse)"
   ]
  },
  {
   "cell_type": "markdown",
   "id": "3fe49ac1-633a-4cec-acbc-5ae828c7f995",
   "metadata": {},
   "source": [
    "## ppkt. 3\n",
    "alpha = 0 -> dostalem zwykla regresje liniowa. Co poszlo nie tak?"
   ]
  },
  {
   "cell_type": "code",
   "execution_count": 13,
   "id": "6f6bc482-bdd6-4969-83ba-998df764df2e",
   "metadata": {},
   "outputs": [
    {
     "name": "stdout",
     "output_type": "stream",
     "text": [
      "           LinearRegression  Ridge(alpha=0.0)\n",
      "x0                 8.048147          8.048147\n",
      "x1                -0.912084         -0.912084\n",
      "x2                39.768514         39.768514\n",
      "x3                -0.422739         -0.422739\n",
      "x4                -1.725602         -1.725602\n",
      "x5                 1.271267          1.271267\n",
      "x6                10.527862         10.527862\n",
      "x7                -2.844143         -2.844143\n",
      "x8                79.311137         79.311137\n",
      "x9                36.324873         36.324873\n",
      "x10               -3.218614         -3.218614\n",
      "x11                1.040354          1.040354\n",
      "x12               -0.647205         -0.647205\n",
      "x13                1.243650          1.243650\n",
      "x14                1.022305          1.022305\n",
      "x15               -1.620223         -1.620223\n",
      "x16               -0.266789         -0.266789\n",
      "x17                0.780582          0.780582\n",
      "x18                0.523295          0.523295\n",
      "x19               -1.140787         -1.140787\n",
      "intercept          1.114532          1.114532\n"
     ]
    }
   ],
   "source": [
    "coef_lr = pd.Series(lr.coef_, index=X.columns)\n",
    "intercept_lr = lr.intercept_\n",
    "\n",
    "# współczynniki Ridge\n",
    "coef_ridge = pd.Series(lr_r.coef_, index=X.columns)\n",
    "intercept = lr_r.intercept_\n",
    "comp = pd.DataFrame({\n",
    "    'LinearRegression': coef_lr,\n",
    "    f'Ridge(alpha={b_alpha:.1f})': coef_ridge\n",
    "})\n",
    "comp.loc['intercept'] = [intercept_lr, intercept]\n",
    "\n",
    "print(comp)"
   ]
  },
  {
   "cell_type": "code",
   "execution_count": null,
   "id": "7c5e4366-137b-4978-b6d1-151961cc2522",
   "metadata": {},
   "outputs": [],
   "source": []
  }
 ],
 "metadata": {
  "kernelspec": {
   "display_name": "Python 3 (ipykernel)",
   "language": "python",
   "name": "python3"
  },
  "language_info": {
   "codemirror_mode": {
    "name": "ipython",
    "version": 3
   },
   "file_extension": ".py",
   "mimetype": "text/x-python",
   "name": "python",
   "nbconvert_exporter": "python",
   "pygments_lexer": "ipython3",
   "version": "3.12.3"
  }
 },
 "nbformat": 4,
 "nbformat_minor": 5
}
